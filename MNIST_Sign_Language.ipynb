{
  "nbformat": 4,
  "nbformat_minor": 0,
  "metadata": {
    "colab": {
      "name": "MNIST Sign Language",
      "provenance": [],
      "collapsed_sections": [],
      "mount_file_id": "12w36Do01Eac40GJKtqac1qsQvaWTqKIC",
      "authorship_tag": "ABX9TyO5e9jpeSGI2Mkw9NakQGKC",
      "include_colab_link": true
    },
    "kernelspec": {
      "name": "python3",
      "display_name": "Python 3"
    },
    "language_info": {
      "name": "python"
    },
    "accelerator": "GPU"
  },
  "cells": [
    {
      "cell_type": "markdown",
      "metadata": {
        "id": "view-in-github",
        "colab_type": "text"
      },
      "source": [
        "<a href=\"https://colab.research.google.com/github/Abhilash11Addanki/DeepLearning/blob/main/MNIST_Sign_Language.ipynb\" target=\"_parent\"><img src=\"https://colab.research.google.com/assets/colab-badge.svg\" alt=\"Open In Colab\"/></a>"
      ]
    },
    {
      "cell_type": "code",
      "metadata": {
        "id": "F6Y1eRqN5USj"
      },
      "source": [
        "import pandas as pd\n",
        "import numpy as np\n",
        "import csv\n",
        "import tensorflow as tf"
      ],
      "execution_count": 1,
      "outputs": []
    },
    {
      "cell_type": "code",
      "metadata": {
        "id": "UT5ZnS8k69_o"
      },
      "source": [
        "def get_data(filename):\n",
        "  with open(filename) as df:\n",
        "    images_list,labels_list = [],[]\n",
        "    csv_reader = csv.reader(df,delimiter=',')\n",
        "    next(csv_reader)\n",
        "    for row in csv_reader:\n",
        "      labels_list.append(row[0])\n",
        "      images_data = row[1:]\n",
        "      images_data_as_array = np.array_split(images_data,28)\n",
        "      images_list.append(images_data_as_array)\n",
        "    images = np.array(images_list).astype('float')\n",
        "    labels = np.array(labels_list).astype('float')\n",
        "  return images,labels"
      ],
      "execution_count": 2,
      "outputs": []
    },
    {
      "cell_type": "code",
      "metadata": {
        "id": "U4PUZV598gR2"
      },
      "source": [
        "train_images,train_labels = get_data('/content/drive/MyDrive/Deep Learning.AI/sign_mnist_train.csv')\n",
        "test_images,test_labels = get_data('/content/drive/MyDrive/Deep Learning.AI/sign_mnist_test.csv')"
      ],
      "execution_count": 3,
      "outputs": []
    },
    {
      "cell_type": "code",
      "metadata": {
        "colab": {
          "base_uri": "https://localhost:8080/"
        },
        "id": "XLgxfSvL8j3V",
        "outputId": "d7a711c7-6af0-4f0d-ef85-a65008e53de1"
      },
      "source": [
        "print(train_images.shape,train_labels.shape)\n",
        "print(test_images.shape,test_labels.shape)"
      ],
      "execution_count": 4,
      "outputs": [
        {
          "output_type": "stream",
          "text": [
            "(27455, 28, 28) (27455,)\n",
            "(7172, 28, 28) (7172,)\n"
          ],
          "name": "stdout"
        }
      ]
    },
    {
      "cell_type": "code",
      "metadata": {
        "id": "H8tX88EN8s0G"
      },
      "source": [
        "train_images = np.expand_dims(train_images,axis = 3)\n",
        "test_images = np.expand_dims(test_images,axis = 3)"
      ],
      "execution_count": 5,
      "outputs": []
    },
    {
      "cell_type": "code",
      "metadata": {
        "colab": {
          "base_uri": "https://localhost:8080/"
        },
        "id": "UdAJeZmaMZei",
        "outputId": "dd496429-d46a-4657-8ce1-2da615bbe41a"
      },
      "source": [
        "print(train_images.shape)\n",
        "print(test_images.shape)"
      ],
      "execution_count": 6,
      "outputs": [
        {
          "output_type": "stream",
          "text": [
            "(27455, 28, 28, 1)\n",
            "(7172, 28, 28, 1)\n"
          ],
          "name": "stdout"
        }
      ]
    },
    {
      "cell_type": "code",
      "metadata": {
        "id": "rR05ALydMdj0"
      },
      "source": [
        "from tensorflow.keras.preprocessing.image import ImageDataGenerator\n",
        "\n",
        "train_datagen = ImageDataGenerator(rescale=1/255,rotation_range=40,width_shift_range=0.2,height_shift_range=0.2,shear_range=0.2,zoom_range=0.2,horizontal_flip=True,fill_mode='nearest')\n",
        "test_datagen = ImageDataGenerator(rescale=1/255)\n",
        "\n",
        "train_gen = train_datagen.flow(train_images,train_labels,batch_size = 32)\n",
        "test_gen = test_datagen.flow(test_images,test_labels,batch_size = 32)"
      ],
      "execution_count": 7,
      "outputs": []
    },
    {
      "cell_type": "code",
      "metadata": {
        "id": "B5vf_illOlBW"
      },
      "source": [
        "model = tf.keras.models.Sequential([tf.keras.layers.Conv2D(16,(3,3),activation='relu',input_shape=(28,28,1)),\n",
        "                                    tf.keras.layers.MaxPooling2D((2,2)),\n",
        "                                    tf.keras.layers.Conv2D(32,(3,3),activation='relu'),\n",
        "                                    tf.keras.layers.MaxPooling2D((2,2)),\n",
        "                                    tf.keras.layers.Conv2D(64,(3,3),activation='relu'),\n",
        "                                    tf.keras.layers.MaxPooling2D((2,2)),\n",
        "                                    tf.keras.layers.Flatten(),\n",
        "                                    tf.keras.layers.Dense(512,activation='relu'),\n",
        "                                    tf.keras.layers.Dense(26,activation='softmax')\n",
        "                                    ])"
      ],
      "execution_count": 8,
      "outputs": []
    },
    {
      "cell_type": "code",
      "metadata": {
        "colab": {
          "base_uri": "https://localhost:8080/"
        },
        "id": "MF0zjcWZO8eW",
        "outputId": "6a26dcf0-a0af-42dc-990b-0490a6371f43"
      },
      "source": [
        "model.summary()"
      ],
      "execution_count": 9,
      "outputs": [
        {
          "output_type": "stream",
          "text": [
            "Model: \"sequential\"\n",
            "_________________________________________________________________\n",
            "Layer (type)                 Output Shape              Param #   \n",
            "=================================================================\n",
            "conv2d (Conv2D)              (None, 26, 26, 16)        160       \n",
            "_________________________________________________________________\n",
            "max_pooling2d (MaxPooling2D) (None, 13, 13, 16)        0         \n",
            "_________________________________________________________________\n",
            "conv2d_1 (Conv2D)            (None, 11, 11, 32)        4640      \n",
            "_________________________________________________________________\n",
            "max_pooling2d_1 (MaxPooling2 (None, 5, 5, 32)          0         \n",
            "_________________________________________________________________\n",
            "conv2d_2 (Conv2D)            (None, 3, 3, 64)          18496     \n",
            "_________________________________________________________________\n",
            "max_pooling2d_2 (MaxPooling2 (None, 1, 1, 64)          0         \n",
            "_________________________________________________________________\n",
            "flatten (Flatten)            (None, 64)                0         \n",
            "_________________________________________________________________\n",
            "dense (Dense)                (None, 512)               33280     \n",
            "_________________________________________________________________\n",
            "dense_1 (Dense)              (None, 26)                13338     \n",
            "=================================================================\n",
            "Total params: 69,914\n",
            "Trainable params: 69,914\n",
            "Non-trainable params: 0\n",
            "_________________________________________________________________\n"
          ],
          "name": "stdout"
        }
      ]
    },
    {
      "cell_type": "code",
      "metadata": {
        "id": "mG81unIjPGoJ"
      },
      "source": [
        "model.compile(optimizer='adam',loss='sparse_categorical_crossentropy',metrics=['accuracy'])"
      ],
      "execution_count": 10,
      "outputs": []
    },
    {
      "cell_type": "code",
      "metadata": {
        "id": "3ZKjlbyTPV5h"
      },
      "source": [
        "class myCallback(tf.keras.callbacks.Callback):\n",
        "  def on_epoch_end(self,epoch,logs={}):\n",
        "    if logs.get('accuracy')>0.85:\n",
        "      print('\\nReached 85% accuracy so training cancelled')\n",
        "      self.model.stop_training = True"
      ],
      "execution_count": 11,
      "outputs": []
    },
    {
      "cell_type": "code",
      "metadata": {
        "colab": {
          "base_uri": "https://localhost:8080/"
        },
        "id": "1_Ueas9OPvRS",
        "outputId": "f0bfc388-5d17-4996-cffb-79f92647ee6a"
      },
      "source": [
        "history = model.fit(train_gen,validation_data=test_gen,epochs = 50,callbacks=[myCallback()])"
      ],
      "execution_count": 12,
      "outputs": [
        {
          "output_type": "stream",
          "text": [
            "Epoch 1/50\n",
            "858/858 [==============================] - 18s 18ms/step - loss: 3.0746 - accuracy: 0.0761 - val_loss: 2.2612 - val_accuracy: 0.2172\n",
            "Epoch 2/50\n",
            "858/858 [==============================] - 15s 17ms/step - loss: 2.3463 - accuracy: 0.2501 - val_loss: 1.7340 - val_accuracy: 0.3919\n",
            "Epoch 3/50\n",
            "858/858 [==============================] - 15s 18ms/step - loss: 1.9112 - accuracy: 0.3758 - val_loss: 1.2766 - val_accuracy: 0.5388\n",
            "Epoch 4/50\n",
            "858/858 [==============================] - 15s 17ms/step - loss: 1.6446 - accuracy: 0.4556 - val_loss: 1.1645 - val_accuracy: 0.5883\n",
            "Epoch 5/50\n",
            "858/858 [==============================] - 15s 17ms/step - loss: 1.4887 - accuracy: 0.5076 - val_loss: 0.9761 - val_accuracy: 0.6601\n",
            "Epoch 6/50\n",
            "858/858 [==============================] - 15s 17ms/step - loss: 1.3222 - accuracy: 0.5631 - val_loss: 0.9885 - val_accuracy: 0.6322\n",
            "Epoch 7/50\n",
            "858/858 [==============================] - 15s 17ms/step - loss: 1.2371 - accuracy: 0.5864 - val_loss: 0.8577 - val_accuracy: 0.7153\n",
            "Epoch 8/50\n",
            "858/858 [==============================] - 14s 17ms/step - loss: 1.1355 - accuracy: 0.6173 - val_loss: 0.7541 - val_accuracy: 0.7365\n",
            "Epoch 9/50\n",
            "858/858 [==============================] - 14s 17ms/step - loss: 1.0741 - accuracy: 0.6446 - val_loss: 0.6376 - val_accuracy: 0.7811\n",
            "Epoch 10/50\n",
            "858/858 [==============================] - 14s 17ms/step - loss: 0.9979 - accuracy: 0.6624 - val_loss: 0.5693 - val_accuracy: 0.8093\n",
            "Epoch 11/50\n",
            "858/858 [==============================] - 14s 16ms/step - loss: 0.9572 - accuracy: 0.6786 - val_loss: 0.6031 - val_accuracy: 0.7840\n",
            "Epoch 12/50\n",
            "858/858 [==============================] - 15s 17ms/step - loss: 0.9300 - accuracy: 0.6800 - val_loss: 0.6119 - val_accuracy: 0.7842\n",
            "Epoch 13/50\n",
            "858/858 [==============================] - 14s 16ms/step - loss: 0.8937 - accuracy: 0.6957 - val_loss: 0.5607 - val_accuracy: 0.8040\n",
            "Epoch 14/50\n",
            "858/858 [==============================] - 14s 17ms/step - loss: 0.8368 - accuracy: 0.7194 - val_loss: 0.5062 - val_accuracy: 0.8215\n",
            "Epoch 15/50\n",
            "858/858 [==============================] - 14s 17ms/step - loss: 0.8033 - accuracy: 0.7257 - val_loss: 0.4701 - val_accuracy: 0.8397\n",
            "Epoch 16/50\n",
            "858/858 [==============================] - 14s 17ms/step - loss: 0.7864 - accuracy: 0.7358 - val_loss: 0.5605 - val_accuracy: 0.8261\n",
            "Epoch 17/50\n",
            "858/858 [==============================] - 14s 17ms/step - loss: 0.7525 - accuracy: 0.7472 - val_loss: 0.3937 - val_accuracy: 0.8627\n",
            "Epoch 18/50\n",
            "858/858 [==============================] - 14s 16ms/step - loss: 0.7281 - accuracy: 0.7515 - val_loss: 0.3995 - val_accuracy: 0.8664\n",
            "Epoch 19/50\n",
            "858/858 [==============================] - 14s 16ms/step - loss: 0.7298 - accuracy: 0.7556 - val_loss: 0.4619 - val_accuracy: 0.8344\n",
            "Epoch 20/50\n",
            "858/858 [==============================] - 14s 16ms/step - loss: 0.6967 - accuracy: 0.7642 - val_loss: 0.3843 - val_accuracy: 0.8600\n",
            "Epoch 21/50\n",
            "858/858 [==============================] - 14s 17ms/step - loss: 0.6799 - accuracy: 0.7699 - val_loss: 0.4221 - val_accuracy: 0.8430\n",
            "Epoch 22/50\n",
            "858/858 [==============================] - 14s 17ms/step - loss: 0.6658 - accuracy: 0.7698 - val_loss: 0.4411 - val_accuracy: 0.8445\n",
            "Epoch 23/50\n",
            "858/858 [==============================] - 14s 16ms/step - loss: 0.6307 - accuracy: 0.7845 - val_loss: 0.3903 - val_accuracy: 0.8682\n",
            "Epoch 24/50\n",
            "858/858 [==============================] - 14s 17ms/step - loss: 0.6446 - accuracy: 0.7846 - val_loss: 0.4697 - val_accuracy: 0.8385\n",
            "Epoch 25/50\n",
            "858/858 [==============================] - 14s 16ms/step - loss: 0.6316 - accuracy: 0.7828 - val_loss: 0.3295 - val_accuracy: 0.8889\n",
            "Epoch 26/50\n",
            "858/858 [==============================] - 14s 17ms/step - loss: 0.6289 - accuracy: 0.7889 - val_loss: 0.3440 - val_accuracy: 0.8851\n",
            "Epoch 27/50\n",
            "858/858 [==============================] - 14s 16ms/step - loss: 0.6191 - accuracy: 0.7888 - val_loss: 0.3016 - val_accuracy: 0.8858\n",
            "Epoch 28/50\n",
            "858/858 [==============================] - 14s 17ms/step - loss: 0.6010 - accuracy: 0.7933 - val_loss: 0.2542 - val_accuracy: 0.9091\n",
            "Epoch 29/50\n",
            "858/858 [==============================] - 14s 17ms/step - loss: 0.5810 - accuracy: 0.8038 - val_loss: 0.2719 - val_accuracy: 0.8995\n",
            "Epoch 30/50\n",
            "858/858 [==============================] - 14s 17ms/step - loss: 0.5746 - accuracy: 0.8077 - val_loss: 0.2553 - val_accuracy: 0.9142\n",
            "Epoch 31/50\n",
            "858/858 [==============================] - 14s 17ms/step - loss: 0.5510 - accuracy: 0.8122 - val_loss: 0.2508 - val_accuracy: 0.9112\n",
            "Epoch 32/50\n",
            "858/858 [==============================] - 14s 16ms/step - loss: 0.5513 - accuracy: 0.8104 - val_loss: 0.3153 - val_accuracy: 0.9011\n",
            "Epoch 33/50\n",
            "858/858 [==============================] - 14s 17ms/step - loss: 0.5582 - accuracy: 0.8110 - val_loss: 0.3324 - val_accuracy: 0.8797\n",
            "Epoch 34/50\n",
            "858/858 [==============================] - 14s 17ms/step - loss: 0.5472 - accuracy: 0.8187 - val_loss: 0.3258 - val_accuracy: 0.8799\n",
            "Epoch 35/50\n",
            "858/858 [==============================] - 14s 17ms/step - loss: 0.5246 - accuracy: 0.8210 - val_loss: 0.3416 - val_accuracy: 0.8805\n",
            "Epoch 36/50\n",
            "858/858 [==============================] - 14s 16ms/step - loss: 0.5296 - accuracy: 0.8176 - val_loss: 0.3020 - val_accuracy: 0.9044\n",
            "Epoch 37/50\n",
            "858/858 [==============================] - 14s 17ms/step - loss: 0.5072 - accuracy: 0.8249 - val_loss: 0.2936 - val_accuracy: 0.8928\n",
            "Epoch 38/50\n",
            "858/858 [==============================] - 14s 17ms/step - loss: 0.5086 - accuracy: 0.8249 - val_loss: 0.2675 - val_accuracy: 0.9063\n",
            "Epoch 39/50\n",
            "858/858 [==============================] - 14s 16ms/step - loss: 0.4958 - accuracy: 0.8329 - val_loss: 0.2298 - val_accuracy: 0.9244\n",
            "Epoch 40/50\n",
            "858/858 [==============================] - 14s 17ms/step - loss: 0.4982 - accuracy: 0.8297 - val_loss: 0.2354 - val_accuracy: 0.9229\n",
            "Epoch 41/50\n",
            "858/858 [==============================] - 14s 16ms/step - loss: 0.4856 - accuracy: 0.8348 - val_loss: 0.2893 - val_accuracy: 0.8974\n",
            "Epoch 42/50\n",
            "858/858 [==============================] - 14s 17ms/step - loss: 0.5036 - accuracy: 0.8274 - val_loss: 0.2907 - val_accuracy: 0.8967\n",
            "Epoch 43/50\n",
            "858/858 [==============================] - 14s 17ms/step - loss: 0.4833 - accuracy: 0.8371 - val_loss: 0.2284 - val_accuracy: 0.9127\n",
            "Epoch 44/50\n",
            "858/858 [==============================] - 14s 16ms/step - loss: 0.4708 - accuracy: 0.8386 - val_loss: 0.2206 - val_accuracy: 0.9241\n",
            "Epoch 45/50\n",
            "858/858 [==============================] - 14s 17ms/step - loss: 0.4718 - accuracy: 0.8381 - val_loss: 0.2924 - val_accuracy: 0.9044\n",
            "Epoch 46/50\n",
            "858/858 [==============================] - 14s 16ms/step - loss: 0.4647 - accuracy: 0.8426 - val_loss: 0.3061 - val_accuracy: 0.8939\n",
            "Epoch 47/50\n",
            "858/858 [==============================] - 14s 17ms/step - loss: 0.4750 - accuracy: 0.8361 - val_loss: 0.2524 - val_accuracy: 0.8997\n",
            "Epoch 48/50\n",
            "858/858 [==============================] - 14s 16ms/step - loss: 0.4826 - accuracy: 0.8374 - val_loss: 0.2979 - val_accuracy: 0.9055\n",
            "Epoch 49/50\n",
            "858/858 [==============================] - 14s 17ms/step - loss: 0.4628 - accuracy: 0.8468 - val_loss: 0.2499 - val_accuracy: 0.9067\n",
            "Epoch 50/50\n",
            "858/858 [==============================] - 14s 16ms/step - loss: 0.4602 - accuracy: 0.8442 - val_loss: 0.2534 - val_accuracy: 0.9176\n"
          ],
          "name": "stdout"
        }
      ]
    },
    {
      "cell_type": "code",
      "metadata": {
        "colab": {
          "base_uri": "https://localhost:8080/"
        },
        "id": "wG2FJ-G6P9yW",
        "outputId": "33d5417c-bad8-4ea5-91b9-5e1bdee7ac3d"
      },
      "source": [
        "model.evaluate(test_images,test_labels)"
      ],
      "execution_count": 13,
      "outputs": [
        {
          "output_type": "stream",
          "text": [
            "225/225 [==============================] - 1s 3ms/step - loss: 194.9906 - accuracy: 0.6828\n"
          ],
          "name": "stdout"
        },
        {
          "output_type": "execute_result",
          "data": {
            "text/plain": [
              "[194.99061584472656, 0.6827942132949829]"
            ]
          },
          "metadata": {
            "tags": []
          },
          "execution_count": 13
        }
      ]
    },
    {
      "cell_type": "code",
      "metadata": {
        "colab": {
          "base_uri": "https://localhost:8080/",
          "height": 563
        },
        "id": "Gx2Y3hwrYlFk",
        "outputId": "d396aa39-cc21-4733-a982-0ef98043bebe"
      },
      "source": [
        "import matplotlib.pyplot as plt\n",
        "\n",
        "acc = history.history['accuracy']\n",
        "val_acc = history.history['val_accuracy']\n",
        "loss = history.history['loss']\n",
        "val_loss = history.history['val_loss']\n",
        "\n",
        "epochs = range(len(acc)) # Get number of epochs\n",
        "\n",
        "#Plotting training and validation accuracy per epoch\n",
        "plt.plot(epochs,acc)\n",
        "plt.plot(epochs,val_acc)\n",
        "plt.title('Training and validation accuracy')\n",
        "plt.figure()\n",
        "\n",
        "#Plotting training and validation loss per epoch\n",
        "plt.plot( epochs,loss)\n",
        "plt.plot( epochs,val_loss)\n",
        "plt.title('Training and validation loss')"
      ],
      "execution_count": 15,
      "outputs": [
        {
          "output_type": "execute_result",
          "data": {
            "text/plain": [
              "Text(0.5, 1.0, 'Training and validation loss')"
            ]
          },
          "metadata": {
            "tags": []
          },
          "execution_count": 15
        },
        {
          "output_type": "display_data",
          "data": {
            "image/png": "[encoded data removed]",
            "text/plain": [
              "<Figure size 432x288 with 1 Axes>"
            ]
          },
          "metadata": {
            "tags": [],
            "needs_background": "light"
          }
        },
        {
          "output_type": "display_data",
          "data": {
            "image/png": "[encoded data removed]",
            "text/plain": [
              "<Figure size 432x288 with 1 Axes>"
            ]
          },
          "metadata": {
            "tags": [],
            "needs_background": "light"
          }
        }
      ]
    },
    {
      "cell_type": "code",
      "metadata": {
        "id": "mnMpT2e7Y16w"
      },
      "source": [
        ""
      ],
      "execution_count": null,
      "outputs": []
    }
  ]
}