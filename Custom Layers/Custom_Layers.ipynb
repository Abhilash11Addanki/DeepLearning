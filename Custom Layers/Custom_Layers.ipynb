{
  "nbformat": 4,
  "nbformat_minor": 0,
  "metadata": {
    "colab": {
      "name": "Custom Layers",
      "provenance": [],
      "collapsed_sections": [],
      "authorship_tag": "ABX9TyMFhjte3p4N8ofLvFrflm30",
      "include_colab_link": true
    },
    "kernelspec": {
      "name": "python3",
      "display_name": "Python 3"
    },
    "language_info": {
      "name": "python"
    }
  },
  "cells": [
    {
      "cell_type": "markdown",
      "metadata": {
        "id": "view-in-github",
        "colab_type": "text"
      },
      "source": [
        "<a href=\"https://colab.research.google.com/github/Abhilash11Addanki/DeepLearning/blob/main/Custom%20Layers/Custom_Layers.ipynb\" target=\"_parent\"><img src=\"https://colab.research.google.com/assets/colab-badge.svg\" alt=\"Open In Colab\"/></a>"
      ]
    },
    {
      "cell_type": "markdown",
      "metadata": {
        "id": "pfGkCvfxEYrn"
      },
      "source": [
        "**Using Lambda Layer**"
      ]
    },
    {
      "cell_type": "code",
      "metadata": {
        "id": "_iCaM1GfDLMb"
      },
      "source": [
        "import tensorflow as tf\n",
        "import numpy as np"
      ],
      "execution_count": 1,
      "outputs": []
    },
    {
      "cell_type": "code",
      "metadata": {
        "id": "XqO07eIqEVBD"
      },
      "source": [
        "mnist = tf.keras.datasets.mnist"
      ],
      "execution_count": 2,
      "outputs": []
    },
    {
      "cell_type": "code",
      "metadata": {
        "id": "vL5KjpjEEgvr"
      },
      "source": [
        "(x_train,y_train),(x_test,y_test) = mnist.load_data()"
      ],
      "execution_count": 3,
      "outputs": []
    },
    {
      "cell_type": "code",
      "metadata": {
        "id": "v9te979WEm-p"
      },
      "source": [
        "x_train,x_test = x_train/255.0,x_test/255.0"
      ],
      "execution_count": 4,
      "outputs": []
    },
    {
      "cell_type": "code",
      "metadata": {
        "id": "dHTS7gekEscj"
      },
      "source": [
        "model = tf.keras.models.Sequential([tf.keras.layers.Flatten(input_shape=(28,28)),\n",
        "                                    tf.keras.layers.Dense(128),\n",
        "                                    tf.keras.layers.Lambda(lambda x:tf.abs(x)),\n",
        "                                    tf.keras.layers.Dense(10,activation='softmax')])"
      ],
      "execution_count": 5,
      "outputs": []
    },
    {
      "cell_type": "code",
      "metadata": {
        "id": "oUZc0RGJFDBP"
      },
      "source": [
        "model.compile(optimizer='adam',loss='sparse_categorical_crossentropy',metrics=['accuracy'])"
      ],
      "execution_count": 6,
      "outputs": []
    },
    {
      "cell_type": "code",
      "metadata": {
        "colab": {
          "base_uri": "https://localhost:8080/"
        },
        "id": "W_ihwznyFQbq",
        "outputId": "dcb78d64-ad2b-4d07-d048-10c7caeca232"
      },
      "source": [
        "model.fit(x_train,y_train,validation_data=(x_test,y_test),epochs = 5)"
      ],
      "execution_count": 7,
      "outputs": [
        {
          "output_type": "stream",
          "text": [
            "Epoch 1/5\n",
            "1875/1875 [==============================] - 4s 2ms/step - loss: 0.3943 - accuracy: 0.8908 - val_loss: 0.1146 - val_accuracy: 0.9648\n",
            "Epoch 2/5\n",
            "1875/1875 [==============================] - 4s 2ms/step - loss: 0.0926 - accuracy: 0.9728 - val_loss: 0.0859 - val_accuracy: 0.9735\n",
            "Epoch 3/5\n",
            "1875/1875 [==============================] - 4s 2ms/step - loss: 0.0595 - accuracy: 0.9815 - val_loss: 0.0902 - val_accuracy: 0.9718\n",
            "Epoch 4/5\n",
            "1875/1875 [==============================] - 4s 2ms/step - loss: 0.0454 - accuracy: 0.9861 - val_loss: 0.0912 - val_accuracy: 0.9719\n",
            "Epoch 5/5\n",
            "1875/1875 [==============================] - 4s 2ms/step - loss: 0.0324 - accuracy: 0.9902 - val_loss: 0.0897 - val_accuracy: 0.9755\n"
          ],
          "name": "stdout"
        },
        {
          "output_type": "execute_result",
          "data": {
            "text/plain": [
              "<tensorflow.python.keras.callbacks.History at 0x7fd83fd7a7d0>"
            ]
          },
          "metadata": {
            "tags": []
          },
          "execution_count": 7
        }
      ]
    },
    {
      "cell_type": "markdown",
      "metadata": {
        "id": "4-JocJTxFp3V"
      },
      "source": [
        "**Using Custom Activation Function**"
      ]
    },
    {
      "cell_type": "code",
      "metadata": {
        "id": "3-mM5372FXxR"
      },
      "source": [
        "import tensorflow.keras.backend as K"
      ],
      "execution_count": 8,
      "outputs": []
    },
    {
      "cell_type": "code",
      "metadata": {
        "id": "67-AR0lhGwgX"
      },
      "source": [
        "def my_relu(x):\n",
        "  return K.maximum(0.0,x)"
      ],
      "execution_count": 9,
      "outputs": []
    },
    {
      "cell_type": "code",
      "metadata": {
        "id": "q4Vf1Pk7G7Xr"
      },
      "source": [
        "model = tf.keras.models.Sequential([tf.keras.layers.Flatten(input_shape=(28,28)),\n",
        "                                    tf.keras.layers.Dense(128),\n",
        "                                    tf.keras.layers.Lambda(my_relu),\n",
        "                                    tf.keras.layers.Dense(10,activation='softmax')])"
      ],
      "execution_count": 10,
      "outputs": []
    },
    {
      "cell_type": "code",
      "metadata": {
        "id": "2D5n7o8zHMd0"
      },
      "source": [
        "model.compile(optimizer='adam',loss='sparse_categorical_crossentropy',metrics=['accuracy'])"
      ],
      "execution_count": 11,
      "outputs": []
    },
    {
      "cell_type": "code",
      "metadata": {
        "colab": {
          "base_uri": "https://localhost:8080/"
        },
        "id": "82O-TriRHVE1",
        "outputId": "62dff83e-4f48-4408-e6c3-b889f398bf8b"
      },
      "source": [
        "model.fit(x_train,y_train,validation_data=(x_test,y_test),epochs = 5)"
      ],
      "execution_count": 12,
      "outputs": [
        {
          "output_type": "stream",
          "text": [
            "Epoch 1/5\n",
            "1875/1875 [==============================] - 4s 2ms/step - loss: 0.4387 - accuracy: 0.8781 - val_loss: 0.1551 - val_accuracy: 0.9517\n",
            "Epoch 2/5\n",
            "1875/1875 [==============================] - 4s 2ms/step - loss: 0.1201 - accuracy: 0.9641 - val_loss: 0.0955 - val_accuracy: 0.9704\n",
            "Epoch 3/5\n",
            "1875/1875 [==============================] - 4s 2ms/step - loss: 0.0759 - accuracy: 0.9771 - val_loss: 0.0805 - val_accuracy: 0.9742\n",
            "Epoch 4/5\n",
            "1875/1875 [==============================] - 4s 2ms/step - loss: 0.0551 - accuracy: 0.9828 - val_loss: 0.0843 - val_accuracy: 0.9749\n",
            "Epoch 5/5\n",
            "1875/1875 [==============================] - 4s 2ms/step - loss: 0.0441 - accuracy: 0.9869 - val_loss: 0.0816 - val_accuracy: 0.9756\n"
          ],
          "name": "stdout"
        },
        {
          "output_type": "execute_result",
          "data": {
            "text/plain": [
              "<tensorflow.python.keras.callbacks.History at 0x7fd832c46fd0>"
            ]
          },
          "metadata": {
            "tags": []
          },
          "execution_count": 12
        }
      ]
    },
    {
      "cell_type": "markdown",
      "metadata": {
        "id": "yfoCH-vkJDSi"
      },
      "source": [
        "**Creating a Custom Dense Layer**"
      ]
    },
    {
      "cell_type": "code",
      "metadata": {
        "id": "BPjZNCHvHdqS"
      },
      "source": [
        "class SimpleDense(tf.keras.layers.Layer):\n",
        "  def __init__(self,units=32):\n",
        "    super(SimpleDense,self).__init__()\n",
        "    self.units = units\n",
        "  \n",
        "  def build(self,input_shape):\n",
        "    w_init = tf.random_normal_initializer()\n",
        "    self.w = tf.Variable(name='kernel',initial_value=w_init(shape=(input_shape[-1],self.units),dtype='float32'),trainable=True)\n",
        "    b_init = tf.zeros_initializer()\n",
        "    self.b = tf.Variable(name='bias',initial_value=b_init(shape=(self.units,),dtype='float32'),trainable=True)\n",
        "\n",
        "  def call(self,inputs):\n",
        "    return tf.matmul(inputs,self.w)+self.b"
      ],
      "execution_count": 13,
      "outputs": []
    },
    {
      "cell_type": "code",
      "metadata": {
        "id": "Of1lABRSKOUz"
      },
      "source": [
        "xs = np.array([-1.0,0.0,1.0,2.0,3.0,4.0],dtype=float)\n",
        "ys = np.array([-3.0,-1.0,1.0,3.0,5.0,7.0],dtype=float)"
      ],
      "execution_count": 17,
      "outputs": []
    },
    {
      "cell_type": "code",
      "metadata": {
        "id": "JTNtmMLwKtsC"
      },
      "source": [
        "my_layer = SimpleDense(units=1)\n",
        "model = tf.keras.models.Sequential([my_layer])"
      ],
      "execution_count": 15,
      "outputs": []
    },
    {
      "cell_type": "code",
      "metadata": {
        "id": "c3jQ4nLlK2y6"
      },
      "source": [
        "model.compile(optimizer='sgd',loss='mean_squared_error',metrics=['accuracy'])"
      ],
      "execution_count": 16,
      "outputs": []
    },
    {
      "cell_type": "code",
      "metadata": {
        "colab": {
          "base_uri": "https://localhost:8080/"
        },
        "id": "-wxySV4kM38U",
        "outputId": "5c56008b-6673-4c10-93e0-e4f4701adc58"
      },
      "source": [
        "model.fit(xs,ys,epochs = 500,verbose = 0)\n",
        "print(model.predict([10.0]))"
      ],
      "execution_count": 18,
      "outputs": [
        {
          "output_type": "stream",
          "text": [
            "[[18.981396]]\n"
          ],
          "name": "stdout"
        }
      ]
    },
    {
      "cell_type": "code",
      "metadata": {
        "colab": {
          "base_uri": "https://localhost:8080/"
        },
        "id": "vfRl9GnvM-2S",
        "outputId": "92eade7b-7fd3-4ac2-a1ac-d172a3cbd1c4"
      },
      "source": [
        "print(my_layer.variables)"
      ],
      "execution_count": 19,
      "outputs": [
        {
          "output_type": "stream",
          "text": [
            "[<tf.Variable 'simple_dense/kernel:0' shape=(1, 1) dtype=float32, numpy=array([[1.9973037]], dtype=float32)>, <tf.Variable 'simple_dense/bias:0' shape=(1,) dtype=float32, numpy=array([-0.99164104], dtype=float32)>]\n"
          ],
          "name": "stdout"
        }
      ]
    },
    {
      "cell_type": "markdown",
      "metadata": {
        "id": "5pSM1WG_OMd_"
      },
      "source": [
        "**Creating a Custom Dense Layer with Activation Function**"
      ]
    },
    {
      "cell_type": "code",
      "metadata": {
        "id": "LAEwwYPiNQ3_"
      },
      "source": [
        "class CustomDense(tf.keras.layers.Layer):\n",
        "  def __init__(self,units=32,activation=None):\n",
        "    super(CustomDense,self).__init__()\n",
        "    self.units = units\n",
        "    self.activation = tf.keras.activations.get(activation)\n",
        "  \n",
        "  def build(self,input_shape):\n",
        "    w_init = tf.random_normal_initializer()\n",
        "    self.w = tf.Variable(name='kernel',initial_value=w_init(shape=(input_shape[-1],self.units),dtype='float32'),trainable=True)\n",
        "    b_init = tf.zeros_initializer()\n",
        "    self.b = tf.Variable(name='bias',initial_value=b_init(shape=(self.units,),dtype='float32'),trainable=True)\n",
        "\n",
        "  def call(self,inputs):\n",
        "    return self.activation(tf.matmul(inputs,self.w)+self.b)"
      ],
      "execution_count": 22,
      "outputs": []
    },
    {
      "cell_type": "code",
      "metadata": {
        "id": "Xuw7tBqyOqLT"
      },
      "source": [
        "model = tf.keras.models.Sequential([tf.keras.layers.Flatten(input_shape=(28,28)),\n",
        "                                    CustomDense(128,activation='relu'),\n",
        "                                    tf.keras.layers.Dropout(0.2),\n",
        "                                    tf.keras.layers.Dense(10,activation='softmax')])"
      ],
      "execution_count": 23,
      "outputs": []
    },
    {
      "cell_type": "code",
      "metadata": {
        "id": "bZU3Z0BsPCMp"
      },
      "source": [
        "model.compile(optimizer='adam',loss='sparse_categorical_crossentropy',metrics=['accuracy'])"
      ],
      "execution_count": 24,
      "outputs": []
    },
    {
      "cell_type": "code",
      "metadata": {
        "colab": {
          "base_uri": "https://localhost:8080/"
        },
        "id": "rZT6pfVNPRBU",
        "outputId": "a506b081-72b6-4671-b07b-6193a1ef9a13"
      },
      "source": [
        "model.fit(x_train,y_train,validation_data=(x_test,y_test),epochs = 5)"
      ],
      "execution_count": 25,
      "outputs": [
        {
          "output_type": "stream",
          "text": [
            "Epoch 1/5\n",
            "1875/1875 [==============================] - 5s 2ms/step - loss: 0.4758 - accuracy: 0.8606 - val_loss: 0.1353 - val_accuracy: 0.9604\n",
            "Epoch 2/5\n",
            "1875/1875 [==============================] - 4s 2ms/step - loss: 0.1488 - accuracy: 0.9551 - val_loss: 0.0957 - val_accuracy: 0.9709\n",
            "Epoch 3/5\n",
            "1875/1875 [==============================] - 4s 2ms/step - loss: 0.1073 - accuracy: 0.9671 - val_loss: 0.0858 - val_accuracy: 0.9744\n",
            "Epoch 4/5\n",
            "1875/1875 [==============================] - 4s 2ms/step - loss: 0.0831 - accuracy: 0.9743 - val_loss: 0.0866 - val_accuracy: 0.9734\n",
            "Epoch 5/5\n",
            "1875/1875 [==============================] - 4s 2ms/step - loss: 0.0725 - accuracy: 0.9778 - val_loss: 0.0754 - val_accuracy: 0.9769\n"
          ],
          "name": "stdout"
        },
        {
          "output_type": "execute_result",
          "data": {
            "text/plain": [
              "<tensorflow.python.keras.callbacks.History at 0x7fd835544150>"
            ]
          },
          "metadata": {
            "tags": []
          },
          "execution_count": 25
        }
      ]
    },
    {
      "cell_type": "code",
      "metadata": {
        "id": "BX7Y2Y8pPXRS"
      },
      "source": [
        ""
      ],
      "execution_count": null,
      "outputs": []
    }
  ]
}