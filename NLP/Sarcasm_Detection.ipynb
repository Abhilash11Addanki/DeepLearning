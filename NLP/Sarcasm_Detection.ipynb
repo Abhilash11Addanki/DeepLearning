{
  "nbformat": 4,
  "nbformat_minor": 0,
  "metadata": {
    "accelerator": "GPU",
    "colab": {
      "name": "Sarcasm Detection",
      "provenance": [],
      "collapsed_sections": [],
      "authorship_tag": "ABX9TyMA7Iev+TFsJJsdYKX14VCs",
      "include_colab_link": true
    },
    "kernelspec": {
      "display_name": "Python 3",
      "name": "python3"
    },
    "language_info": {
      "name": "python"
    }
  },
  "cells": [
    {
      "cell_type": "markdown",
      "metadata": {
        "id": "view-in-github",
        "colab_type": "text"
      },
      "source": [
        "<a href=\"https://colab.research.google.com/github/Abhilash11Addanki/DeepLearning/blob/main/Sarcasm_Detection.ipynb\" target=\"_parent\"><img src=\"https://colab.research.google.com/assets/colab-badge.svg\" alt=\"Open In Colab\"/></a>"
      ]
    },
    {
      "cell_type": "code",
      "metadata": {
        "colab": {
          "base_uri": "https://localhost:8080/"
        },
        "id": "aLH6ccheNqEf",
        "outputId": "9dce5510-0c2d-4546-e9d3-aba32f8a0e4a"
      },
      "source": [
        "!wget --no-check-certificate \\\n",
        "    https://storage.googleapis.com/laurencemoroney-blog.appspot.com/sarcasm.json \\\n",
        "    -O /tmp/sarcasm.json"
      ],
      "execution_count": null,
      "outputs": [
        {
          "output_type": "stream",
          "text": [
            "--2021-05-11 18:13:28--  https://storage.googleapis.com/laurencemoroney-blog.appspot.com/sarcasm.json\n",
            "Resolving storage.googleapis.com (storage.googleapis.com)... 142.250.81.208, 142.250.73.208, 142.250.73.240, ...\n",
            "Connecting to storage.googleapis.com (storage.googleapis.com)|142.250.81.208|:443... connected.\n",
            "HTTP request sent, awaiting response... 200 OK\n",
            "Length: 5643545 (5.4M) [application/json]\n",
            "Saving to: ‘/tmp/sarcasm.json’\n",
            "\n",
            "\r/tmp/sarcasm.json     0%[                    ]       0  --.-KB/s               \r/tmp/sarcasm.json   100%[===================>]   5.38M  --.-KB/s    in 0.05s   \n",
            "\n",
            "2021-05-11 18:13:28 (108 MB/s) - ‘/tmp/sarcasm.json’ saved [5643545/5643545]\n",
            "\n"
          ],
          "name": "stdout"
        }
      ]
    },
    {
      "cell_type": "code",
      "metadata": {
        "id": "Ke0yQQI3Odhs"
      },
      "source": [
        "import json\n",
        "\n",
        "with open(\"/tmp/sarcasm.json\",\"r\") as f:\n",
        "  datastore = json.load(f)"
      ],
      "execution_count": null,
      "outputs": []
    },
    {
      "cell_type": "code",
      "metadata": {
        "id": "sroTIPi_OuCn"
      },
      "source": [
        "sentences,labels,urls = [],[],[]\n",
        "for i in datastore:\n",
        "  sentences.append(i['headline'])\n",
        "  labels.append(i['is_sarcastic'])\n",
        "  urls.append(i['article_link'])"
      ],
      "execution_count": null,
      "outputs": []
    },
    {
      "cell_type": "code",
      "metadata": {
        "colab": {
          "base_uri": "https://localhost:8080/"
        },
        "id": "THyRqPcFO89i",
        "outputId": "86e002ef-34bd-4d6e-b51b-c005e3d4627c"
      },
      "source": [
        "print(sentences[10])\n",
        "print(labels[10])"
      ],
      "execution_count": null,
      "outputs": [
        {
          "output_type": "stream",
          "text": [
            "airline passengers tackle man who rushes cockpit in bomb threat\n",
            "0\n"
          ],
          "name": "stdout"
        }
      ]
    },
    {
      "cell_type": "code",
      "metadata": {
        "id": "WT_svT_SPAEA"
      },
      "source": [
        "from tensorflow.keras.preprocessing.text import Tokenizer\n",
        "from tensorflow.keras.preprocessing.sequence import pad_sequences"
      ],
      "execution_count": null,
      "outputs": []
    },
    {
      "cell_type": "code",
      "metadata": {
        "id": "p-BLU96FsxbL"
      },
      "source": [
        "vocab_size = 10000\n",
        "embedding_dim = 16\n",
        "max_length = 100\n",
        "trunc_type = 'post'\n",
        "padding_type = 'post'\n",
        "oov_tok = '<OOV>'\n",
        "training_size = 20000"
      ],
      "execution_count": null,
      "outputs": []
    },
    {
      "cell_type": "code",
      "metadata": {
        "id": "6Z2rK50ite56"
      },
      "source": [
        "train_sentences = sentences[0:training_size]\n",
        "test_sentences = sentences[training_size:]\n",
        "train_labels = labels[0:training_size]\n",
        "test_labels = labels[training_size:]"
      ],
      "execution_count": null,
      "outputs": []
    },
    {
      "cell_type": "code",
      "metadata": {
        "id": "kiImamTsPOdh"
      },
      "source": [
        "tokenizer = Tokenizer(num_words = vocab_size,oov_token=oov_tok)\n",
        "tokenizer.fit_on_texts(train_sentences)"
      ],
      "execution_count": null,
      "outputs": []
    },
    {
      "cell_type": "code",
      "metadata": {
        "colab": {
          "base_uri": "https://localhost:8080/"
        },
        "id": "DOkkJybMPpir",
        "outputId": "5446e9ff-5ed9-4b4f-e3fd-8bf864fa7880"
      },
      "source": [
        "word_index = tokenizer.word_index\n",
        "print(len(word_index))\n",
        "# print(word_index)"
      ],
      "execution_count": null,
      "outputs": [
        {
          "output_type": "stream",
          "text": [
            "25637\n"
          ],
          "name": "stdout"
        }
      ]
    },
    {
      "cell_type": "code",
      "metadata": {
        "colab": {
          "base_uri": "https://localhost:8080/"
        },
        "id": "vQJon9BkPwKs",
        "outputId": "53a91f63-8624-420e-8da2-5e8f611e455a"
      },
      "source": [
        "train_sequences = tokenizer.texts_to_sequences(train_sentences)\n",
        "train_padded = pad_sequences(train_sequences,maxlen=max_length,padding=padding_type,truncating=trunc_type)\n",
        "print(train_padded[10])\n",
        "print(train_padded.shape)"
      ],
      "execution_count": null,
      "outputs": [
        {
          "output_type": "stream",
          "text": [
            "[3098 2216 3756   14   37 5653 8868    5 2094 1092    0    0    0    0\n",
            "    0    0    0    0    0    0    0    0    0    0    0    0    0    0\n",
            "    0    0    0    0    0    0    0    0    0    0    0    0    0    0\n",
            "    0    0    0    0    0    0    0    0    0    0    0    0    0    0\n",
            "    0    0    0    0    0    0    0    0    0    0    0    0    0    0\n",
            "    0    0    0    0    0    0    0    0    0    0    0    0    0    0\n",
            "    0    0    0    0    0    0    0    0    0    0    0    0    0    0\n",
            "    0    0]\n",
            "(20000, 100)\n"
          ],
          "name": "stdout"
        }
      ]
    },
    {
      "cell_type": "code",
      "metadata": {
        "colab": {
          "base_uri": "https://localhost:8080/"
        },
        "id": "uV8YEIk2El7u",
        "outputId": "2343d57c-dcc1-4a2d-abf7-6bf7bd88df55"
      },
      "source": [
        "test_sequences = tokenizer.texts_to_sequences(test_sentences)\n",
        "test_padded = pad_sequences(test_sequences,maxlen=max_length,padding=padding_type,truncating=trunc_type)\n",
        "print(test_padded[10])\n",
        "print(test_padded.shape)"
      ],
      "execution_count": null,
      "outputs": [
        {
          "output_type": "stream",
          "text": [
            "[1031 1230    1   18  136 1503    2 1028    0    0    0    0    0    0\n",
            "    0    0    0    0    0    0    0    0    0    0    0    0    0    0\n",
            "    0    0    0    0    0    0    0    0    0    0    0    0    0    0\n",
            "    0    0    0    0    0    0    0    0    0    0    0    0    0    0\n",
            "    0    0    0    0    0    0    0    0    0    0    0    0    0    0\n",
            "    0    0    0    0    0    0    0    0    0    0    0    0    0    0\n",
            "    0    0    0    0    0    0    0    0    0    0    0    0    0    0\n",
            "    0    0]\n",
            "(6709, 100)\n"
          ],
          "name": "stdout"
        }
      ]
    },
    {
      "cell_type": "code",
      "metadata": {
        "id": "vJgg1yyAvFMo"
      },
      "source": [
        "import numpy as np\n",
        "train_padded = np.array(train_padded)\n",
        "train_labels = np.array(train_labels)\n",
        "test_padded = np.array(test_padded)\n",
        "test_labels = np.array(test_labels)"
      ],
      "execution_count": null,
      "outputs": []
    },
    {
      "cell_type": "code",
      "metadata": {
        "id": "sdox5Zd4vg5g"
      },
      "source": [
        "import tensorflow as tf"
      ],
      "execution_count": null,
      "outputs": []
    },
    {
      "cell_type": "code",
      "metadata": {
        "id": "p_CC_dt6vslL"
      },
      "source": [
        "#Defining the layers\n",
        "model = tf.keras.models.Sequential([tf.keras.layers.Embedding(vocab_size,embedding_dim,input_length=max_length),\n",
        "                                    tf.keras.layers.Flatten(),\n",
        "                                    tf.keras.layers.Dense(24,activation='relu'),\n",
        "                                    tf.keras.layers.Dense(1,activation='sigmoid')])"
      ],
      "execution_count": null,
      "outputs": []
    },
    {
      "cell_type": "code",
      "metadata": {
        "id": "a6kS-f7kwUoF"
      },
      "source": [
        "model.compile(optimizer='adam',loss='binary_crossentropy',metrics=['accuracy'])"
      ],
      "execution_count": null,
      "outputs": []
    },
    {
      "cell_type": "code",
      "metadata": {
        "colab": {
          "base_uri": "https://localhost:8080/"
        },
        "id": "WMnAZK6pwcR9",
        "outputId": "7da776dc-60ca-4495-e2e5-59176f17a6b0"
      },
      "source": [
        "model.summary()"
      ],
      "execution_count": null,
      "outputs": [
        {
          "output_type": "stream",
          "text": [
            "Model: \"sequential\"\n",
            "_________________________________________________________________\n",
            "Layer (type)                 Output Shape              Param #   \n",
            "=================================================================\n",
            "embedding (Embedding)        (None, 100, 16)           160000    \n",
            "_________________________________________________________________\n",
            "flatten (Flatten)            (None, 1600)              0         \n",
            "_________________________________________________________________\n",
            "dense (Dense)                (None, 24)                38424     \n",
            "_________________________________________________________________\n",
            "dense_1 (Dense)              (None, 1)                 25        \n",
            "=================================================================\n",
            "Total params: 198,449\n",
            "Trainable params: 198,449\n",
            "Non-trainable params: 0\n",
            "_________________________________________________________________\n"
          ],
          "name": "stdout"
        }
      ]
    },
    {
      "cell_type": "code",
      "metadata": {
        "id": "-R1OrH6fwelg"
      },
      "source": [
        "class myCallback(tf.keras.callbacks.Callback):\n",
        "  def on_epoch_end(self,epoch,logs={}):\n",
        "    if logs.get('accuracy')>0.99:\n",
        "      print('\\nAchieved 99% accuracy so training cancelled')\n",
        "      self.model.stop_training = True"
      ],
      "execution_count": null,
      "outputs": []
    },
    {
      "cell_type": "code",
      "metadata": {
        "colab": {
          "base_uri": "https://localhost:8080/"
        },
        "id": "zoQLDcS9xHaw",
        "outputId": "9097f1ba-aa61-48ee-bbcf-34371c7269d7"
      },
      "source": [
        "history = model.fit(train_padded,train_labels,validation_data=(test_padded,test_labels),epochs=50,callbacks=[myCallback()])"
      ],
      "execution_count": null,
      "outputs": [
        {
          "output_type": "stream",
          "text": [
            "Epoch 1/50\n",
            "625/625 [==============================] - 6s 5ms/step - loss: 0.5697 - accuracy: 0.6739 - val_loss: 0.3193 - val_accuracy: 0.8624\n",
            "Epoch 2/50\n",
            "625/625 [==============================] - 3s 4ms/step - loss: 0.2056 - accuracy: 0.9228 - val_loss: 0.3167 - val_accuracy: 0.8645\n",
            "Epoch 3/50\n",
            "625/625 [==============================] - 3s 4ms/step - loss: 0.1031 - accuracy: 0.9680 - val_loss: 0.3672 - val_accuracy: 0.8594\n",
            "Epoch 4/50\n",
            "625/625 [==============================] - 3s 4ms/step - loss: 0.0492 - accuracy: 0.9864 - val_loss: 0.4445 - val_accuracy: 0.8548\n",
            "Epoch 5/50\n",
            "625/625 [==============================] - 3s 4ms/step - loss: 0.0190 - accuracy: 0.9966 - val_loss: 0.5092 - val_accuracy: 0.8512\n",
            "\n",
            "Achieved 99% accuracy so training cancelled\n"
          ],
          "name": "stdout"
        }
      ]
    },
    {
      "cell_type": "code",
      "metadata": {
        "colab": {
          "base_uri": "https://localhost:8080/",
          "height": 541
        },
        "id": "8VSqqVFrxY1I",
        "outputId": "165105d9-edab-4772-ad07-ad80d43826f2"
      },
      "source": [
        "import matplotlib.pyplot as plt\n",
        "\n",
        "\n",
        "def plot_graphs(history, string):\n",
        "  plt.plot(history.history[string])\n",
        "  plt.plot(history.history['val_'+string])\n",
        "  plt.xlabel(\"Epochs\")\n",
        "  plt.ylabel(string)\n",
        "  plt.legend([string, 'val_'+string])\n",
        "  plt.show()\n",
        "  \n",
        "plot_graphs(history, \"accuracy\")\n",
        "plot_graphs(history, \"loss\")"
      ],
      "execution_count": null,
      "outputs": [
        {
          "output_type": "display_data",
          "data": {
            "image/png": "[encoded data removed]",
            "text/plain": [
              "<Figure size 432x288 with 1 Axes>"
            ]
          },
          "metadata": {
            "tags": []
          }
        },
        {
          "output_type": "display_data",
          "data": {
            "image/png": "[encoded data removed]",
            "text/plain": [
              "<Figure size 432x288 with 1 Axes>"
            ]
          },
          "metadata": {
            "tags": []
          }
        }
      ]
    },
    {
      "cell_type": "code",
      "metadata": {
        "id": "kZmvu0LGx01u"
      },
      "source": [
        "reverse_word_index = dict([(value,key) for (key,value) in word_index.items()])"
      ],
      "execution_count": null,
      "outputs": []
    },
    {
      "cell_type": "code",
      "metadata": {
        "colab": {
          "base_uri": "https://localhost:8080/"
        },
        "id": "pku2XK9SyUHK",
        "outputId": "59c74445-cfb1-400f-a86a-f234ff5da98c"
      },
      "source": [
        "print(train_padded[0])"
      ],
      "execution_count": null,
      "outputs": [
        {
          "output_type": "stream",
          "text": [
            "[ 328    1  799 3405 2404   47  389 2214    1    6 2614 8863    0    0\n",
            "    0    0    0    0    0    0    0    0    0    0    0    0    0    0\n",
            "    0    0    0    0    0    0    0    0    0    0    0    0    0    0\n",
            "    0    0    0    0    0    0    0    0    0    0    0    0    0    0\n",
            "    0    0    0    0    0    0    0    0    0    0    0    0    0    0\n",
            "    0    0    0    0    0    0    0    0    0    0    0    0    0    0\n",
            "    0    0    0    0    0    0    0    0    0    0    0    0    0    0\n",
            "    0    0]\n"
          ],
          "name": "stdout"
        }
      ]
    },
    {
      "cell_type": "code",
      "metadata": {
        "id": "zvZPZDhDyita"
      },
      "source": [
        "def decode_sentence(text):\n",
        "  return ' '.join(reverse_word_index[x] for x in text if x>0)"
      ],
      "execution_count": null,
      "outputs": []
    },
    {
      "cell_type": "code",
      "metadata": {
        "colab": {
          "base_uri": "https://localhost:8080/"
        },
        "id": "ZJz95t3jzfJD",
        "outputId": "9c155f36-ad24-4c74-97bf-ec044de9b451"
      },
      "source": [
        "print(decode_sentence(train_padded[0]))"
      ],
      "execution_count": null,
      "outputs": [
        {
          "output_type": "stream",
          "text": [
            "former <OOV> store clerk sues over secret 'black <OOV> for minority shoppers\n"
          ],
          "name": "stdout"
        }
      ]
    },
    {
      "cell_type": "code",
      "metadata": {
        "colab": {
          "base_uri": "https://localhost:8080/",
          "height": 35
        },
        "id": "lWEAemzqzljV",
        "outputId": "0334d4f0-9f38-482a-8526-f2ab233e18f1"
      },
      "source": [
        "train_sentences[0]"
      ],
      "execution_count": null,
      "outputs": [
        {
          "output_type": "execute_result",
          "data": {
            "application/vnd.google.colaboratory.intrinsic+json": {
              "type": "string"
            },
            "text/plain": [
              "\"former versace store clerk sues over secret 'black code' for minority shoppers\""
            ]
          },
          "metadata": {
            "tags": []
          },
          "execution_count": 24
        }
      ]
    },
    {
      "cell_type": "code",
      "metadata": {
        "id": "9UVAZqBSz5AN"
      },
      "source": [
        "e = model.layers[0]\n",
        "weights = e.get_weights()[0]"
      ],
      "execution_count": null,
      "outputs": []
    },
    {
      "cell_type": "code",
      "metadata": {
        "colab": {
          "base_uri": "https://localhost:8080/"
        },
        "id": "RuQts91G0NWG",
        "outputId": "c772d17d-7b98-4d71-dbc5-a744a42b1cf1"
      },
      "source": [
        "print(weights.shape)"
      ],
      "execution_count": null,
      "outputs": [
        {
          "output_type": "stream",
          "text": [
            "(10000, 16)\n"
          ],
          "name": "stdout"
        }
      ]
    },
    {
      "cell_type": "code",
      "metadata": {
        "id": "uGy0erSM0PyX"
      },
      "source": [
        "sentence = [\"granny starting to fear spiders in the garden might be real\", \"game of thrones season finale showing this sunday night\"]"
      ],
      "execution_count": null,
      "outputs": []
    },
    {
      "cell_type": "code",
      "metadata": {
        "id": "YLZyMC200q4L"
      },
      "source": [
        "sequences = tokenizer.texts_to_sequences(sentence)\n",
        "padded = pad_sequences(sequences,maxlen=max_length,padding=padding_type,truncating=trunc_type)"
      ],
      "execution_count": null,
      "outputs": []
    },
    {
      "cell_type": "code",
      "metadata": {
        "colab": {
          "base_uri": "https://localhost:8080/"
        },
        "id": "vbYsMeSe0-uc",
        "outputId": "e1e6428f-e77e-4c94-a9d5-a10d89b50155"
      },
      "source": [
        "print(model.predict(padded))"
      ],
      "execution_count": null,
      "outputs": [
        {
          "output_type": "stream",
          "text": [
            "[[0.9718949]\n",
            " [0.0385794]]\n"
          ],
          "name": "stdout"
        }
      ]
    },
    {
      "cell_type": "markdown",
      "metadata": {
        "id": "udpBICLRnXCy"
      },
      "source": [
        "**Using BI-Directional LSTM**"
      ]
    },
    {
      "cell_type": "code",
      "metadata": {
        "id": "UCqF1JHM1Y7u"
      },
      "source": [
        "lstm_model = tf.keras.models.Sequential([tf.keras.layers.Embedding(vocab_size,embedding_dim,input_length=max_length),\n",
        "                                         tf.keras.layers.Bidirectional(tf.keras.layers.LSTM(64)),\n",
        "                                         tf.keras.layers.Dense(24,activation='relu'),\n",
        "                                         tf.keras.layers.Dense(1,activation='sigmoid')])"
      ],
      "execution_count": null,
      "outputs": []
    },
    {
      "cell_type": "code",
      "metadata": {
        "colab": {
          "base_uri": "https://localhost:8080/"
        },
        "id": "s-mx0BV4n_7I",
        "outputId": "4a9dd64e-aa54-4ad8-bad4-ae13d2c91f62"
      },
      "source": [
        "lstm_model.summary()"
      ],
      "execution_count": null,
      "outputs": [
        {
          "output_type": "stream",
          "text": [
            "Model: \"sequential_1\"\n",
            "_________________________________________________________________\n",
            "Layer (type)                 Output Shape              Param #   \n",
            "=================================================================\n",
            "embedding_1 (Embedding)      (None, 100, 16)           160000    \n",
            "_________________________________________________________________\n",
            "bidirectional (Bidirectional (None, 128)               41472     \n",
            "_________________________________________________________________\n",
            "dense_2 (Dense)              (None, 24)                3096      \n",
            "_________________________________________________________________\n",
            "dense_3 (Dense)              (None, 1)                 25        \n",
            "=================================================================\n",
            "Total params: 204,593\n",
            "Trainable params: 204,593\n",
            "Non-trainable params: 0\n",
            "_________________________________________________________________\n"
          ],
          "name": "stdout"
        }
      ]
    },
    {
      "cell_type": "code",
      "metadata": {
        "id": "JDQuuo9VoBuA"
      },
      "source": [
        "lstm_model.compile(optimizer='adam',loss='binary_crossentropy',metrics=['accuracy'])"
      ],
      "execution_count": null,
      "outputs": []
    },
    {
      "cell_type": "code",
      "metadata": {
        "colab": {
          "background_save": true,
          "base_uri": "https://localhost:8080/"
        },
        "id": "ANRlbDH1oLgg",
        "outputId": "cadc4224-5c2c-4c52-b2d4-69a3e3ac3ac3"
      },
      "source": [
        "history_lstm = lstm_model.fit(train_padded,train_labels,validation_data=(test_padded,test_labels),epochs = 50,callbacks=[myCallback()])"
      ],
      "execution_count": null,
      "outputs": [
        {
          "output_type": "stream",
          "text": [
            "Epoch 1/50\n",
            "625/625 [==============================] - 45s 67ms/step - loss: 0.5091 - accuracy: 0.7234 - val_loss: 0.3321 - val_accuracy: 0.8556\n",
            "Epoch 2/50\n",
            "625/625 [==============================] - 41s 66ms/step - loss: 0.2063 - accuracy: 0.9195 - val_loss: 0.3532 - val_accuracy: 0.8499\n",
            "Epoch 3/50\n",
            "625/625 [==============================] - 41s 65ms/step - loss: 0.1482 - accuracy: 0.9477 - val_loss: 0.3981 - val_accuracy: 0.8517\n",
            "Epoch 4/50\n",
            "625/625 [==============================] - 41s 66ms/step - loss: 0.0962 - accuracy: 0.9693 - val_loss: 0.4838 - val_accuracy: 0.8426\n",
            "Epoch 5/50\n",
            "625/625 [==============================] - 41s 66ms/step - loss: 0.0608 - accuracy: 0.9799 - val_loss: 0.5596 - val_accuracy: 0.8447\n",
            "Epoch 6/50\n",
            "625/625 [==============================] - 41s 66ms/step - loss: 0.0391 - accuracy: 0.9881 - val_loss: 0.6505 - val_accuracy: 0.8378\n",
            "Epoch 7/50\n",
            "625/625 [==============================] - 41s 65ms/step - loss: 0.0247 - accuracy: 0.9921 - val_loss: 0.7389 - val_accuracy: 0.8378\n",
            "\n",
            "Achieved 99% accuracy so training cancelled\n"
          ],
          "name": "stdout"
        }
      ]
    },
    {
      "cell_type": "code",
      "metadata": {
        "colab": {
          "base_uri": "https://localhost:8080/",
          "height": 542
        },
        "id": "_ObNz4xQoez9",
        "outputId": "0f6b1ed0-5238-496a-934b-4694e6494b46"
      },
      "source": [
        "plot_graphs(history_lstm, 'accuracy')\n",
        "plot_graphs(history_lstm, 'loss')"
      ],
      "execution_count": null,
      "outputs": [
        {
          "output_type": "display_data",
          "data": {
            "image/png": "[encoded data removed]",
            "text/plain": [
              "<Figure size 432x288 with 1 Axes>"
            ]
          },
          "metadata": {
            "tags": []
          }
        },
        {
          "output_type": "display_data",
          "data": {
            "image/png": "[encoded data removed]",
            "text/plain": [
              "<Figure size 432x288 with 1 Axes>"
            ]
          },
          "metadata": {
            "tags": []
          }
        }
      ]
    },
    {
      "cell_type": "markdown",
      "metadata": {
        "id": "JTSDEdd2qFZe"
      },
      "source": [
        "**Using Convolution Layer**"
      ]
    },
    {
      "cell_type": "code",
      "metadata": {
        "id": "AyoUmLTapepD"
      },
      "source": [
        "conv_model = tf.keras.Sequential([\n",
        "    tf.keras.layers.Embedding(vocab_size, embedding_dim, input_length=max_length),\n",
        "    tf.keras.layers.Conv1D(128, 5, activation='relu'),\n",
        "    tf.keras.layers.GlobalMaxPooling1D(),\n",
        "    tf.keras.layers.Dense(24, activation='relu'),\n",
        "    tf.keras.layers.Dense(1, activation='sigmoid')\n",
        "])"
      ],
      "execution_count": 35,
      "outputs": []
    },
    {
      "cell_type": "code",
      "metadata": {
        "colab": {
          "base_uri": "https://localhost:8080/"
        },
        "id": "s0Ygf7LaqSdc",
        "outputId": "891685f7-9f2b-4aca-b498-58da700b6802"
      },
      "source": [
        "conv_model.summary()"
      ],
      "execution_count": 36,
      "outputs": [
        {
          "output_type": "stream",
          "text": [
            "Model: \"sequential_2\"\n",
            "_________________________________________________________________\n",
            "Layer (type)                 Output Shape              Param #   \n",
            "=================================================================\n",
            "embedding_2 (Embedding)      (None, 100, 16)           160000    \n",
            "_________________________________________________________________\n",
            "conv1d (Conv1D)              (None, 96, 128)           10368     \n",
            "_________________________________________________________________\n",
            "global_max_pooling1d (Global (None, 128)               0         \n",
            "_________________________________________________________________\n",
            "dense_4 (Dense)              (None, 24)                3096      \n",
            "_________________________________________________________________\n",
            "dense_5 (Dense)              (None, 1)                 25        \n",
            "=================================================================\n",
            "Total params: 173,489\n",
            "Trainable params: 173,489\n",
            "Non-trainable params: 0\n",
            "_________________________________________________________________\n"
          ],
          "name": "stdout"
        }
      ]
    },
    {
      "cell_type": "code",
      "metadata": {
        "id": "mbweyvRrqUUM"
      },
      "source": [
        "conv_model.compile(optimizer='adam',loss='binary_crossentropy',metrics=['accuracy'])"
      ],
      "execution_count": 37,
      "outputs": []
    },
    {
      "cell_type": "code",
      "metadata": {
        "colab": {
          "base_uri": "https://localhost:8080/"
        },
        "id": "n4MLcEz6qfen",
        "outputId": "118b3443-c9a3-489f-e7e8-70582d35c473"
      },
      "source": [
        "history_conv = conv_model.fit(train_padded,train_labels,validation_data=(test_padded,test_labels),epochs = 50,callbacks=[myCallback()])"
      ],
      "execution_count": 38,
      "outputs": [
        {
          "output_type": "stream",
          "text": [
            "Epoch 1/50\n",
            "625/625 [==============================] - 5s 6ms/step - loss: 0.5436 - accuracy: 0.6923 - val_loss: 0.3421 - val_accuracy: 0.8512\n",
            "Epoch 2/50\n",
            "625/625 [==============================] - 3s 5ms/step - loss: 0.2138 - accuracy: 0.9194 - val_loss: 0.3504 - val_accuracy: 0.8523\n",
            "Epoch 3/50\n",
            "625/625 [==============================] - 3s 5ms/step - loss: 0.0988 - accuracy: 0.9679 - val_loss: 0.4616 - val_accuracy: 0.8492\n",
            "Epoch 4/50\n",
            "625/625 [==============================] - 3s 5ms/step - loss: 0.0362 - accuracy: 0.9905 - val_loss: 0.6039 - val_accuracy: 0.8350\n",
            "Epoch 5/50\n",
            "625/625 [==============================] - 3s 5ms/step - loss: 0.0145 - accuracy: 0.9967 - val_loss: 0.7100 - val_accuracy: 0.8444\n",
            "\n",
            "Achieved 99% accuracy so training cancelled\n"
          ],
          "name": "stdout"
        }
      ]
    },
    {
      "cell_type": "code",
      "metadata": {
        "colab": {
          "base_uri": "https://localhost:8080/",
          "height": 541
        },
        "id": "LoaFffCYquyu",
        "outputId": "84c8eca6-a1d5-434d-ee97-da8a998e60f5"
      },
      "source": [
        "plot_graphs(history_conv, 'accuracy')\n",
        "plot_graphs(history_conv, 'loss')"
      ],
      "execution_count": 39,
      "outputs": [
        {
          "output_type": "display_data",
          "data": {
            "image/png": "[encoded data removed]",
            "text/plain": [
              "<Figure size 432x288 with 1 Axes>"
            ]
          },
          "metadata": {
            "tags": [],
            "needs_background": "light"
          }
        },
        {
          "output_type": "display_data",
          "data": {
            "image/png": "[encoded data removed]",
            "text/plain": [
              "<Figure size 432x288 with 1 Axes>"
            ]
          },
          "metadata": {
            "tags": [],
            "needs_background": "light"
          }
        }
      ]
    },
    {
      "cell_type": "code",
      "metadata": {
        "id": "1kt3dwo-q_Ni"
      },
      "source": [
        ""
      ],
      "execution_count": null,
      "outputs": []
    }
  ]
}