{
  "nbformat": 4,
  "nbformat_minor": 0,
  "metadata": {
    "colab": {
      "name": "Contrastive Loss",
      "provenance": [],
      "collapsed_sections": [],
      "authorship_tag": "ABX9TyPl4KLrwH/xHQZcxoFLAAwu",
      "include_colab_link": true
    },
    "kernelspec": {
      "name": "python3",
      "display_name": "Python 3"
    },
    "language_info": {
      "name": "python"
    }
  },
  "cells": [
    {
      "cell_type": "markdown",
      "metadata": {
        "id": "view-in-github",
        "colab_type": "text"
      },
      "source": [
        "<a href=\"https://colab.research.google.com/github/Abhilash11Addanki/DeepLearning/blob/main/Custom%20Losses/Contrastive_Loss.ipynb\" target=\"_parent\"><img src=\"https://colab.research.google.com/assets/colab-badge.svg\" alt=\"Open In Colab\"/></a>"
      ]
    },
    {
      "cell_type": "code",
      "metadata": {
        "id": "cHXYkXHtSoJc"
      },
      "source": [
        "import tensorflow.keras.backend as K\n",
        "import tensorflow as tf"
      ],
      "execution_count": 2,
      "outputs": []
    },
    {
      "cell_type": "code",
      "metadata": {
        "id": "WrlAk3iuTJSH"
      },
      "source": [
        "def contrastive_loss_with_margin(margin):\n",
        "  def contrastive_loss(y_true,y_pred):\n",
        "    square_pred = K.square(y_pred)\n",
        "    margin_square = K.square(K.maximum(margin-y_pred,0))\n",
        "    return K.mean(y_true*square_pred+(1-y_true)*margin_square)\n",
        "  return contrastive_loss"
      ],
      "execution_count": 3,
      "outputs": []
    },
    {
      "cell_type": "markdown",
      "metadata": {
        "id": "txiDaXxrUfF1"
      },
      "source": [
        "**Implementing Contrastive Loss using Class**"
      ]
    },
    {
      "cell_type": "code",
      "metadata": {
        "id": "GyGmSR2STm_5"
      },
      "source": [
        "class ContrastiveLoss(tf.keras.losses.Loss):\n",
        "  margin = 0\n",
        "  def __init__(self,margin):\n",
        "    super().__init__()\n",
        "    self.margin = margin\n",
        "  def call(self,y_true,y_pred):\n",
        "    square_pred = K.square(y_pred)\n",
        "    margin_square = K.square(K.maximum(margin-y_pred,0))\n",
        "    return K.mean(y_true*square_pred+(1-y_true)*margin_square)"
      ],
      "execution_count": 4,
      "outputs": []
    },
    {
      "cell_type": "code",
      "metadata": {
        "id": "YO6gyUhrVDli"
      },
      "source": [
        ""
      ],
      "execution_count": null,
      "outputs": []
    }
  ]
}