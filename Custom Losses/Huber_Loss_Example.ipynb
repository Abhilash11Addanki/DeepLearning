{
  "nbformat": 4,
  "nbformat_minor": 0,
  "metadata": {
    "colab": {
      "name": "Huber Loss Example",
      "provenance": [],
      "collapsed_sections": [],
      "authorship_tag": "ABX9TyOmZpVEbJzpq24PGJgyw3Hx",
      "include_colab_link": true
    },
    "kernelspec": {
      "name": "python3",
      "display_name": "Python 3"
    },
    "language_info": {
      "name": "python"
    }
  },
  "cells": [
    {
      "cell_type": "markdown",
      "metadata": {
        "id": "view-in-github",
        "colab_type": "text"
      },
      "source": [
        "<a href=\"https://colab.research.google.com/github/Abhilash11Addanki/DeepLearning/blob/main/Custom%20Losses/Huber_Loss_Example.ipynb\" target=\"_parent\"><img src=\"https://colab.research.google.com/assets/colab-badge.svg\" alt=\"Open In Colab\"/></a>"
      ]
    },
    {
      "cell_type": "code",
      "metadata": {
        "id": "WNgUA2iIGwJF"
      },
      "source": [
        "import tensorflow as tf\n",
        "import numpy as np\n",
        "from tensorflow import keras"
      ],
      "execution_count": 1,
      "outputs": []
    },
    {
      "cell_type": "code",
      "metadata": {
        "id": "a-oHaYcpG78Q"
      },
      "source": [
        "xs = np.array([-1.0,0.0,1.0,2.0,3.0,4.0],dtype=float)\n",
        "ys = np.array([-3.0,-1.0,1.0,3.0,5.0,7.0],dtype=float)"
      ],
      "execution_count": 2,
      "outputs": []
    },
    {
      "cell_type": "code",
      "metadata": {
        "colab": {
          "base_uri": "https://localhost:8080/"
        },
        "id": "X5bnObMYHMNx",
        "outputId": "b421aa2f-d743-48a3-ae14-86fe6811c4db"
      },
      "source": [
        "model = tf.keras.Sequential([tf.keras.layers.Dense(1,input_shape=[1])])\n",
        "model.compile(optimizer = 'sgd',loss = 'mean_squared_error')\n",
        "model.fit(xs,ys,epochs=500,verbose=0)\n",
        "print(model.predict([10.0]))"
      ],
      "execution_count": 3,
      "outputs": [
        {
          "output_type": "stream",
          "text": [
            "[[18.981842]]\n"
          ],
          "name": "stdout"
        }
      ]
    },
    {
      "cell_type": "markdown",
      "metadata": {
        "id": "-2Ot_1pMHlYq"
      },
      "source": [
        "**Implementing custom Huber Loss**"
      ]
    },
    {
      "cell_type": "code",
      "metadata": {
        "id": "DkdemLftHeh0"
      },
      "source": [
        "def my_huber_loss(y_true,y_pred):\n",
        "  threshold = 1\n",
        "  error = y_true-y_pred\n",
        "  is_small_error = tf.abs(error) < threshold\n",
        "  small_error_loss = tf.square(error)/2\n",
        "  big_error_loss = threshold*(tf.abs(error)-(0.5*threshold))\n",
        "  return tf.where(is_small_error,small_error_loss,big_error_loss)"
      ],
      "execution_count": 4,
      "outputs": []
    },
    {
      "cell_type": "code",
      "metadata": {
        "colab": {
          "base_uri": "https://localhost:8080/"
        },
        "id": "eQC95pMqTiSA",
        "outputId": "f800b884-d68c-4ecb-dc3d-1330a44896be"
      },
      "source": [
        "model = tf.keras.Sequential([keras.layers.Dense(1,input_shape=[1])])\n",
        "model.compile(optimizer='sgd',loss=my_huber_loss)\n",
        "model.fit(xs,ys,epochs=500,verbose=0)\n",
        "print(model.predict([10.0]))"
      ],
      "execution_count": 5,
      "outputs": [
        {
          "output_type": "stream",
          "text": [
            "[[18.506596]]\n"
          ],
          "name": "stdout"
        }
      ]
    },
    {
      "cell_type": "markdown",
      "metadata": {
        "id": "Nk61xyKs2G5I"
      },
      "source": [
        "**Parameterizing the Threshold Value**"
      ]
    },
    {
      "cell_type": "code",
      "metadata": {
        "id": "1D5HiuCjT37O"
      },
      "source": [
        "def my_huber_loss_with_threshold(threshold):\n",
        "  def my_huber_loss(y_true,y_pred):\n",
        "    threshold = 1\n",
        "    error = y_true-y_pred\n",
        "    is_small_error = tf.abs(error) < threshold\n",
        "    small_error_loss = tf.square(error)/2\n",
        "    big_error_loss = threshold*(tf.abs(error)-(0.5*threshold))\n",
        "    return tf.where(is_small_error,small_error_loss,big_error_loss)\n",
        "  return my_huber_loss"
      ],
      "execution_count": 6,
      "outputs": []
    },
    {
      "cell_type": "code",
      "metadata": {
        "colab": {
          "base_uri": "https://localhost:8080/"
        },
        "id": "KII10c-g2kl6",
        "outputId": "da594139-ce5d-464a-941b-23e5114ba95a"
      },
      "source": [
        "model = tf.keras.Sequential([keras.layers.Dense(1,input_shape=[1])])\n",
        "model.compile(optimizer='sgd',loss=my_huber_loss_with_threshold(1))\n",
        "model.fit(xs,ys,epochs=500,verbose=0)\n",
        "print(model.predict([10.0]))"
      ],
      "execution_count": 7,
      "outputs": [
        {
          "output_type": "stream",
          "text": [
            "[[18.525133]]\n"
          ],
          "name": "stdout"
        }
      ]
    },
    {
      "cell_type": "markdown",
      "metadata": {
        "id": "7WH8B5Pt2zn_"
      },
      "source": [
        "**Implementing Huber Loss Class**"
      ]
    },
    {
      "cell_type": "code",
      "metadata": {
        "id": "Fz9sZozW2r3X"
      },
      "source": [
        "class MyHuberLoss(tf.keras.losses.Loss):\n",
        "  threshold = 1\n",
        "  def __init__(self,threshold):\n",
        "    self.threshold = threshold\n",
        "  def call(self,y_true,y_pred):\n",
        "    error = y_true-y_pred\n",
        "    is_small_error = tf.abs(error) < threshold\n",
        "    small_error_loss = tf.square(error)/2\n",
        "    big_error_loss = threshold*(tf.abs(error)-(0.5*threshold))\n",
        "    return tf.where(is_small_error,small_error_loss,big_error_loss)"
      ],
      "execution_count": 8,
      "outputs": []
    },
    {
      "cell_type": "code",
      "metadata": {
        "colab": {
          "base_uri": "https://localhost:8080/"
        },
        "id": "-lWmNGxu3rLQ",
        "outputId": "d2859cb0-f88a-4176-b09b-26cb59e4460c"
      },
      "source": [
        "model = tf.keras.Sequential([keras.layers.Dense(1,input_shape=[1])])\n",
        "model.compile(optimizer='sgd',loss=my_huber_loss_with_threshold(1))\n",
        "model.fit(xs,ys,epochs=500,verbose=0)\n",
        "print(model.predict([10.0]))"
      ],
      "execution_count": 9,
      "outputs": [
        {
          "output_type": "stream",
          "text": [
            "[[18.704308]]\n"
          ],
          "name": "stdout"
        }
      ]
    },
    {
      "cell_type": "code",
      "metadata": {
        "id": "x8vJBJcn3tuv"
      },
      "source": [
        ""
      ],
      "execution_count": 9,
      "outputs": []
    }
  ]
}