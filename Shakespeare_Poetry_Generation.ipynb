{
  "nbformat": 4,
  "nbformat_minor": 0,
  "metadata": {
    "colab": {
      "name": "Shakespeare Poetry Generation",
      "provenance": [],
      "collapsed_sections": [],
      "authorship_tag": "ABX9TyNuPLoLViqHOIF0a1cRqaTP",
      "include_colab_link": true
    },
    "kernelspec": {
      "name": "python3",
      "display_name": "Python 3"
    },
    "language_info": {
      "name": "python"
    },
    "accelerator": "GPU"
  },
  "cells": [
    {
      "cell_type": "markdown",
      "metadata": {
        "id": "view-in-github",
        "colab_type": "text"
      },
      "source": [
        "<a href=\"https://colab.research.google.com/github/Abhilash11Addanki/DeepLearning/blob/main/Shakespeare_Poetry_Generation.ipynb\" target=\"_parent\"><img src=\"https://colab.research.google.com/assets/colab-badge.svg\" alt=\"Open In Colab\"/></a>"
      ]
    },
    {
      "cell_type": "code",
      "metadata": {
        "id": "O9ZYp-NOHgJ1"
      },
      "source": [
        "import tensorflow as tf\n",
        "from tensorflow.keras.preprocessing.sequence import pad_sequences\n",
        "from tensorflow.keras.preprocessing.text import Tokenizer\n",
        "from tensorflow.keras import regularizers\n",
        "import numpy as np"
      ],
      "execution_count": 1,
      "outputs": []
    },
    {
      "cell_type": "code",
      "metadata": {
        "colab": {
          "base_uri": "https://localhost:8080/"
        },
        "id": "M7IKYs2YIMLz",
        "outputId": "345521c6-9730-489c-a531-15722019bf0f"
      },
      "source": [
        "!wget --no-check-certificate \\\n",
        "    https://storage.googleapis.com/laurencemoroney-blog.appspot.com/sonnets.txt \\\n",
        "    -O /tmp/sonnets.txt"
      ],
      "execution_count": 2,
      "outputs": [
        {
          "output_type": "stream",
          "text": [
            "--2021-05-12 05:50:51--  https://storage.googleapis.com/laurencemoroney-blog.appspot.com/sonnets.txt\n",
            "Resolving storage.googleapis.com (storage.googleapis.com)... 64.233.166.128, 64.233.184.128, 74.125.133.128, ...\n",
            "Connecting to storage.googleapis.com (storage.googleapis.com)|64.233.166.128|:443... connected.\n",
            "HTTP request sent, awaiting response... 200 OK\n",
            "Length: 93578 (91K) [text/plain]\n",
            "Saving to: ‘/tmp/sonnets.txt’\n",
            "\n",
            "\r/tmp/sonnets.txt      0%[                    ]       0  --.-KB/s               \r/tmp/sonnets.txt    100%[===================>]  91.38K  --.-KB/s    in 0.001s  \n",
            "\n",
            "2021-05-12 05:50:51 (91.2 MB/s) - ‘/tmp/sonnets.txt’ saved [93578/93578]\n",
            "\n"
          ],
          "name": "stdout"
        }
      ]
    },
    {
      "cell_type": "code",
      "metadata": {
        "id": "OQEOur3CIQFk"
      },
      "source": [
        "data = open('/tmp/sonnets.txt').read()\n",
        "corpus = data.lower().split(\"\\n\")"
      ],
      "execution_count": 3,
      "outputs": []
    },
    {
      "cell_type": "code",
      "metadata": {
        "colab": {
          "base_uri": "https://localhost:8080/"
        },
        "id": "eOfBnl16IXxy",
        "outputId": "e2df5c6c-10bc-463d-9047-36ebdfdb9ff9"
      },
      "source": [
        "tokenizer = Tokenizer(oov_token='<OOV>')\n",
        "tokenizer.fit_on_texts(corpus)\n",
        "total_words = len(tokenizer.word_index)+1\n",
        "print(total_words)"
      ],
      "execution_count": 4,
      "outputs": [
        {
          "output_type": "stream",
          "text": [
            "3212\n"
          ],
          "name": "stdout"
        }
      ]
    },
    {
      "cell_type": "code",
      "metadata": {
        "id": "w-G8qZOYIlH6"
      },
      "source": [
        "input_seq = []\n",
        "for line in corpus:\n",
        "  token_list = tokenizer.texts_to_sequences([line])[0]\n",
        "  for i in range(1,len(token_list)):\n",
        "    n_gram_seq = token_list[:i+1]\n",
        "    input_seq.append(n_gram_seq)"
      ],
      "execution_count": 5,
      "outputs": []
    },
    {
      "cell_type": "code",
      "metadata": {
        "id": "mlcdWdLOJjAh"
      },
      "source": [
        "max_seq_len = max([len(x) for x in input_seq])\n",
        "input_seq = np.array(pad_sequences(input_seq,maxlen=max_seq_len,padding='pre'))"
      ],
      "execution_count": 6,
      "outputs": []
    },
    {
      "cell_type": "code",
      "metadata": {
        "id": "RJENiBEEJ2hE"
      },
      "source": [
        "predictors,labels = input_seq[:,:-1],input_seq[:,-1]\n",
        "labels = tf.keras.utils.to_categorical(labels,num_classes=total_words)"
      ],
      "execution_count": 7,
      "outputs": []
    },
    {
      "cell_type": "code",
      "metadata": {
        "id": "c7nkvlEhKGeD"
      },
      "source": [
        "model = tf.keras.models.Sequential([tf.keras.layers.Embedding(total_words,100,input_length=max_seq_len-1),\n",
        "                                    tf.keras.layers.Bidirectional(tf.keras.layers.LSTM(150,return_sequences=True)),\n",
        "                                    tf.keras.layers.Dropout(0.2),\n",
        "                                    tf.keras.layers.Bidirectional(tf.keras.layers.LSTM(100)),\n",
        "                                    tf.keras.layers.Dense(total_words/2,activation='relu',kernel_regularizer=regularizers.l2(0.01)),\n",
        "                                    tf.keras.layers.Dense(total_words,activation='softmax')])"
      ],
      "execution_count": 8,
      "outputs": []
    },
    {
      "cell_type": "code",
      "metadata": {
        "colab": {
          "base_uri": "https://localhost:8080/"
        },
        "id": "7JAj4j3eLdFC",
        "outputId": "20c070e5-6185-4008-ead3-da9802680bba"
      },
      "source": [
        "model.summary()"
      ],
      "execution_count": 9,
      "outputs": [
        {
          "output_type": "stream",
          "text": [
            "Model: \"sequential\"\n",
            "_________________________________________________________________\n",
            "Layer (type)                 Output Shape              Param #   \n",
            "=================================================================\n",
            "embedding (Embedding)        (None, 10, 100)           321200    \n",
            "_________________________________________________________________\n",
            "bidirectional (Bidirectional (None, 10, 300)           301200    \n",
            "_________________________________________________________________\n",
            "dropout (Dropout)            (None, 10, 300)           0         \n",
            "_________________________________________________________________\n",
            "bidirectional_1 (Bidirection (None, 200)               320800    \n",
            "_________________________________________________________________\n",
            "dense (Dense)                (None, 1606)              322806    \n",
            "_________________________________________________________________\n",
            "dense_1 (Dense)              (None, 3212)              5161684   \n",
            "=================================================================\n",
            "Total params: 6,427,690\n",
            "Trainable params: 6,427,690\n",
            "Non-trainable params: 0\n",
            "_________________________________________________________________\n"
          ],
          "name": "stdout"
        }
      ]
    },
    {
      "cell_type": "code",
      "metadata": {
        "id": "8ZLqDMdiLgTG"
      },
      "source": [
        "model.compile(optimizer='adam',loss='categorical_crossentropy',metrics=['accuracy'])"
      ],
      "execution_count": 10,
      "outputs": []
    },
    {
      "cell_type": "code",
      "metadata": {
        "id": "oD8EZuZsLrko"
      },
      "source": [
        "class myCallback(tf.keras.callbacks.Callback):\n",
        "  def on_epoch_end(self,epoch,logs={}):\n",
        "    if logs.get('accuracy')>0.95:\n",
        "      print(\"\\nReached 95% accuracy so training cancelled\")\n",
        "      self.model.stop_training = True"
      ],
      "execution_count": 11,
      "outputs": []
    },
    {
      "cell_type": "code",
      "metadata": {
        "colab": {
          "base_uri": "https://localhost:8080/"
        },
        "id": "4s8G5mzdM9MJ",
        "outputId": "a43e7b01-9e53-44ed-a300-b58bc864728a"
      },
      "source": [
        "history = model.fit(predictors,labels,epochs = 100,callbacks=[myCallback()])"
      ],
      "execution_count": 12,
      "outputs": [
        {
          "output_type": "stream",
          "text": [
            "Epoch 1/100\n",
            "484/484 [==============================] - 50s 32ms/step - loss: 7.5489 - accuracy: 0.0207\n",
            "Epoch 2/100\n",
            "484/484 [==============================] - 16s 33ms/step - loss: 6.4893 - accuracy: 0.0224\n",
            "Epoch 3/100\n",
            "484/484 [==============================] - 16s 32ms/step - loss: 6.3894 - accuracy: 0.0240\n",
            "Epoch 4/100\n",
            "484/484 [==============================] - 16s 32ms/step - loss: 6.2561 - accuracy: 0.0309\n",
            "Epoch 5/100\n",
            "484/484 [==============================] - 15s 32ms/step - loss: 6.1624 - accuracy: 0.0369\n",
            "Epoch 6/100\n",
            "484/484 [==============================] - 15s 32ms/step - loss: 6.0513 - accuracy: 0.0386\n",
            "Epoch 7/100\n",
            "484/484 [==============================] - 16s 32ms/step - loss: 5.9761 - accuracy: 0.0405\n",
            "Epoch 8/100\n",
            "484/484 [==============================] - 16s 33ms/step - loss: 5.8293 - accuracy: 0.0491\n",
            "Epoch 9/100\n",
            "484/484 [==============================] - 16s 33ms/step - loss: 5.7188 - accuracy: 0.0539\n",
            "Epoch 10/100\n",
            "484/484 [==============================] - 15s 32ms/step - loss: 5.5815 - accuracy: 0.0627\n",
            "Epoch 11/100\n",
            "484/484 [==============================] - 15s 32ms/step - loss: 5.4863 - accuracy: 0.0654\n",
            "Epoch 12/100\n",
            "484/484 [==============================] - 15s 32ms/step - loss: 5.3401 - accuracy: 0.0791\n",
            "Epoch 13/100\n",
            "484/484 [==============================] - 15s 32ms/step - loss: 5.1954 - accuracy: 0.0890\n",
            "Epoch 14/100\n",
            "484/484 [==============================] - 15s 32ms/step - loss: 5.0967 - accuracy: 0.0954\n",
            "Epoch 15/100\n",
            "484/484 [==============================] - 15s 32ms/step - loss: 4.9675 - accuracy: 0.1018\n",
            "Epoch 16/100\n",
            "484/484 [==============================] - 15s 32ms/step - loss: 4.8782 - accuracy: 0.1161\n",
            "Epoch 17/100\n",
            "484/484 [==============================] - 16s 33ms/step - loss: 4.7590 - accuracy: 0.1254\n",
            "Epoch 18/100\n",
            "484/484 [==============================] - 16s 32ms/step - loss: 4.6457 - accuracy: 0.1342\n",
            "Epoch 19/100\n",
            "484/484 [==============================] - 16s 32ms/step - loss: 4.5502 - accuracy: 0.1476\n",
            "Epoch 20/100\n",
            "484/484 [==============================] - 15s 32ms/step - loss: 4.4154 - accuracy: 0.1585\n",
            "Epoch 21/100\n",
            "484/484 [==============================] - 15s 32ms/step - loss: 4.3231 - accuracy: 0.1659\n",
            "Epoch 22/100\n",
            "484/484 [==============================] - 15s 32ms/step - loss: 4.2422 - accuracy: 0.1753\n",
            "Epoch 23/100\n",
            "484/484 [==============================] - 16s 32ms/step - loss: 4.1162 - accuracy: 0.1918\n",
            "Epoch 24/100\n",
            "484/484 [==============================] - 16s 33ms/step - loss: 3.9942 - accuracy: 0.2134\n",
            "Epoch 25/100\n",
            "484/484 [==============================] - 16s 33ms/step - loss: 3.8954 - accuracy: 0.2240\n",
            "Epoch 26/100\n",
            "484/484 [==============================] - 16s 33ms/step - loss: 3.8196 - accuracy: 0.2410\n",
            "Epoch 27/100\n",
            "484/484 [==============================] - 16s 32ms/step - loss: 3.6735 - accuracy: 0.2664\n",
            "Epoch 28/100\n",
            "484/484 [==============================] - 16s 32ms/step - loss: 3.5733 - accuracy: 0.2802\n",
            "Epoch 29/100\n",
            "484/484 [==============================] - 16s 32ms/step - loss: 3.5150 - accuracy: 0.2984\n",
            "Epoch 30/100\n",
            "484/484 [==============================] - 15s 32ms/step - loss: 3.3807 - accuracy: 0.3201\n",
            "Epoch 31/100\n",
            "484/484 [==============================] - 16s 32ms/step - loss: 3.3043 - accuracy: 0.3422\n",
            "Epoch 32/100\n",
            "484/484 [==============================] - 16s 33ms/step - loss: 3.2063 - accuracy: 0.3625\n",
            "Epoch 33/100\n",
            "484/484 [==============================] - 16s 33ms/step - loss: 3.1306 - accuracy: 0.3781\n",
            "Epoch 34/100\n",
            "484/484 [==============================] - 16s 32ms/step - loss: 3.0309 - accuracy: 0.3979\n",
            "Epoch 35/100\n",
            "484/484 [==============================] - 16s 32ms/step - loss: 2.9784 - accuracy: 0.4110\n",
            "Epoch 36/100\n",
            "484/484 [==============================] - 15s 32ms/step - loss: 2.8613 - accuracy: 0.4415\n",
            "Epoch 37/100\n",
            "484/484 [==============================] - 15s 32ms/step - loss: 2.8137 - accuracy: 0.4488\n",
            "Epoch 38/100\n",
            "484/484 [==============================] - 15s 32ms/step - loss: 2.7306 - accuracy: 0.4692\n",
            "Epoch 39/100\n",
            "484/484 [==============================] - 15s 32ms/step - loss: 2.6597 - accuracy: 0.4916\n",
            "Epoch 40/100\n",
            "484/484 [==============================] - 16s 32ms/step - loss: 2.5721 - accuracy: 0.5092\n",
            "Epoch 41/100\n",
            "484/484 [==============================] - 16s 32ms/step - loss: 2.5120 - accuracy: 0.5262\n",
            "Epoch 42/100\n",
            "484/484 [==============================] - 15s 32ms/step - loss: 2.4378 - accuracy: 0.5396\n",
            "Epoch 43/100\n",
            "484/484 [==============================] - 15s 32ms/step - loss: 2.3910 - accuracy: 0.5539\n",
            "Epoch 44/100\n",
            "484/484 [==============================] - 16s 32ms/step - loss: 2.3155 - accuracy: 0.5660\n",
            "Epoch 45/100\n",
            "484/484 [==============================] - 16s 32ms/step - loss: 2.2682 - accuracy: 0.5815\n",
            "Epoch 46/100\n",
            "484/484 [==============================] - 15s 32ms/step - loss: 2.2226 - accuracy: 0.5976\n",
            "Epoch 47/100\n",
            "484/484 [==============================] - 16s 32ms/step - loss: 2.1352 - accuracy: 0.6107\n",
            "Epoch 48/100\n",
            "484/484 [==============================] - 16s 32ms/step - loss: 2.1241 - accuracy: 0.6187\n",
            "Epoch 49/100\n",
            "484/484 [==============================] - 16s 32ms/step - loss: 2.0573 - accuracy: 0.6347\n",
            "Epoch 50/100\n",
            "484/484 [==============================] - 16s 32ms/step - loss: 2.0199 - accuracy: 0.6385\n",
            "Epoch 51/100\n",
            "484/484 [==============================] - 15s 32ms/step - loss: 1.9658 - accuracy: 0.6520\n",
            "Epoch 52/100\n",
            "484/484 [==============================] - 16s 32ms/step - loss: 1.9119 - accuracy: 0.6667\n",
            "Epoch 53/100\n",
            "484/484 [==============================] - 16s 32ms/step - loss: 1.8691 - accuracy: 0.6769\n",
            "Epoch 54/100\n",
            "484/484 [==============================] - 15s 32ms/step - loss: 1.8476 - accuracy: 0.6775\n",
            "Epoch 55/100\n",
            "484/484 [==============================] - 16s 32ms/step - loss: 1.7854 - accuracy: 0.6939\n",
            "Epoch 56/100\n",
            "484/484 [==============================] - 15s 32ms/step - loss: 1.7420 - accuracy: 0.7069\n",
            "Epoch 57/100\n",
            "484/484 [==============================] - 16s 32ms/step - loss: 1.7506 - accuracy: 0.7019\n",
            "Epoch 58/100\n",
            "484/484 [==============================] - 15s 32ms/step - loss: 1.7031 - accuracy: 0.7094\n",
            "Epoch 59/100\n",
            "484/484 [==============================] - 15s 32ms/step - loss: 1.6599 - accuracy: 0.7176\n",
            "Epoch 60/100\n",
            "484/484 [==============================] - 16s 32ms/step - loss: 1.6099 - accuracy: 0.7355\n",
            "Epoch 61/100\n",
            "484/484 [==============================] - 16s 32ms/step - loss: 1.6141 - accuracy: 0.7275\n",
            "Epoch 62/100\n",
            "484/484 [==============================] - 15s 32ms/step - loss: 1.5459 - accuracy: 0.7469\n",
            "Epoch 63/100\n",
            "484/484 [==============================] - 15s 32ms/step - loss: 1.5410 - accuracy: 0.7423\n",
            "Epoch 64/100\n",
            "484/484 [==============================] - 15s 32ms/step - loss: 1.5424 - accuracy: 0.7397\n",
            "Epoch 65/100\n",
            "484/484 [==============================] - 15s 32ms/step - loss: 1.4751 - accuracy: 0.7556\n",
            "Epoch 66/100\n",
            "484/484 [==============================] - 15s 32ms/step - loss: 1.4695 - accuracy: 0.7576\n",
            "Epoch 67/100\n",
            "484/484 [==============================] - 16s 32ms/step - loss: 1.4222 - accuracy: 0.7668\n",
            "Epoch 68/100\n",
            "484/484 [==============================] - 16s 32ms/step - loss: 1.4026 - accuracy: 0.7743\n",
            "Epoch 69/100\n",
            "484/484 [==============================] - 16s 32ms/step - loss: 1.4139 - accuracy: 0.7660\n",
            "Epoch 70/100\n",
            "484/484 [==============================] - 15s 32ms/step - loss: 1.3895 - accuracy: 0.7687\n",
            "Epoch 71/100\n",
            "484/484 [==============================] - 15s 32ms/step - loss: 1.3858 - accuracy: 0.7690\n",
            "Epoch 72/100\n",
            "484/484 [==============================] - 16s 32ms/step - loss: 1.3496 - accuracy: 0.7802\n",
            "Epoch 73/100\n",
            "484/484 [==============================] - 15s 32ms/step - loss: 1.3394 - accuracy: 0.7797\n",
            "Epoch 74/100\n",
            "484/484 [==============================] - 15s 32ms/step - loss: 1.3122 - accuracy: 0.7845\n",
            "Epoch 75/100\n",
            "484/484 [==============================] - 16s 32ms/step - loss: 1.2778 - accuracy: 0.7887\n",
            "Epoch 76/100\n",
            "484/484 [==============================] - 16s 32ms/step - loss: 1.2698 - accuracy: 0.7918\n",
            "Epoch 77/100\n",
            "484/484 [==============================] - 16s 32ms/step - loss: 1.2658 - accuracy: 0.7952\n",
            "Epoch 78/100\n",
            "484/484 [==============================] - 16s 32ms/step - loss: 1.2496 - accuracy: 0.7950\n",
            "Epoch 79/100\n",
            "484/484 [==============================] - 16s 32ms/step - loss: 1.2528 - accuracy: 0.7968\n",
            "Epoch 80/100\n",
            "484/484 [==============================] - 16s 32ms/step - loss: 1.2389 - accuracy: 0.7921\n",
            "Epoch 81/100\n",
            "484/484 [==============================] - 16s 32ms/step - loss: 1.1930 - accuracy: 0.8054\n",
            "Epoch 82/100\n",
            "484/484 [==============================] - 16s 32ms/step - loss: 1.2037 - accuracy: 0.8062\n",
            "Epoch 83/100\n",
            "484/484 [==============================] - 16s 33ms/step - loss: 1.1805 - accuracy: 0.8051\n",
            "Epoch 84/100\n",
            "484/484 [==============================] - 16s 32ms/step - loss: 1.1993 - accuracy: 0.8027\n",
            "Epoch 85/100\n",
            "484/484 [==============================] - 16s 32ms/step - loss: 1.1633 - accuracy: 0.8083\n",
            "Epoch 86/100\n",
            "484/484 [==============================] - 16s 32ms/step - loss: 1.1394 - accuracy: 0.8083\n",
            "Epoch 87/100\n",
            "484/484 [==============================] - 16s 32ms/step - loss: 1.1033 - accuracy: 0.8186\n",
            "Epoch 88/100\n",
            "484/484 [==============================] - 16s 32ms/step - loss: 1.0999 - accuracy: 0.8187\n",
            "Epoch 89/100\n",
            "484/484 [==============================] - 16s 32ms/step - loss: 1.1404 - accuracy: 0.8060\n",
            "Epoch 90/100\n",
            "484/484 [==============================] - 16s 32ms/step - loss: 1.1507 - accuracy: 0.8058\n",
            "Epoch 91/100\n",
            "484/484 [==============================] - 16s 32ms/step - loss: 1.0942 - accuracy: 0.8158\n",
            "Epoch 92/100\n",
            "484/484 [==============================] - 16s 32ms/step - loss: 1.0871 - accuracy: 0.8223\n",
            "Epoch 93/100\n",
            "484/484 [==============================] - 16s 32ms/step - loss: 1.0782 - accuracy: 0.8197\n",
            "Epoch 94/100\n",
            "484/484 [==============================] - 15s 32ms/step - loss: 1.0511 - accuracy: 0.8247\n",
            "Epoch 95/100\n",
            "484/484 [==============================] - 16s 32ms/step - loss: 1.0718 - accuracy: 0.8157\n",
            "Epoch 96/100\n",
            "484/484 [==============================] - 15s 32ms/step - loss: 1.0729 - accuracy: 0.8172\n",
            "Epoch 97/100\n",
            "484/484 [==============================] - 16s 32ms/step - loss: 1.0506 - accuracy: 0.8241\n",
            "Epoch 98/100\n",
            "484/484 [==============================] - 16s 32ms/step - loss: 1.0463 - accuracy: 0.8242\n",
            "Epoch 99/100\n",
            "484/484 [==============================] - 16s 32ms/step - loss: 1.0320 - accuracy: 0.8247\n",
            "Epoch 100/100\n",
            "484/484 [==============================] - 16s 32ms/step - loss: 1.0224 - accuracy: 0.8257\n"
          ],
          "name": "stdout"
        }
      ]
    },
    {
      "cell_type": "code",
      "metadata": {
        "colab": {
          "base_uri": "https://localhost:8080/",
          "height": 545
        },
        "id": "VpacYJuvNFFi",
        "outputId": "fe5902fc-d27e-49b4-ce57-ba83b009070b"
      },
      "source": [
        "import matplotlib.pyplot as plt\n",
        "acc = history.history['accuracy']\n",
        "loss = history.history['loss']\n",
        "\n",
        "epochs = range(len(acc))\n",
        "\n",
        "plt.plot(epochs, acc, 'b', label='Training accuracy')\n",
        "plt.title('Training accuracy')\n",
        "\n",
        "plt.figure()\n",
        "\n",
        "plt.plot(epochs, loss, 'b', label='Training Loss')\n",
        "plt.title('Training loss')\n",
        "plt.legend()\n",
        "\n",
        "plt.show()"
      ],
      "execution_count": 13,
      "outputs": [
        {
          "output_type": "display_data",
          "data": {
            "image/png": "[encoded data removed]",
            "text/plain": [
              "<Figure size 432x288 with 1 Axes>"
            ]
          },
          "metadata": {
            "tags": [],
            "needs_background": "light"
          }
        },
        {
          "output_type": "display_data",
          "data": {
            "image/png": "[encoded data removed]",
            "text/plain": [
              "<Figure size 432x288 with 1 Axes>"
            ]
          },
          "metadata": {
            "tags": [],
            "needs_background": "light"
          }
        }
      ]
    },
    {
      "cell_type": "code",
      "metadata": {
        "colab": {
          "base_uri": "https://localhost:8080/"
        },
        "id": "D8QWhIglUQnl",
        "outputId": "3161f97d-73e3-4336-9959-b8b797dab4c5"
      },
      "source": [
        "seed_text = \"Help me Obi Wan Kenobi, you're my only hope\"\n",
        "next_words = 100\n",
        "  \n",
        "for _ in range(next_words):\n",
        "\ttoken_list = tokenizer.texts_to_sequences([seed_text])[0]\n",
        "\ttoken_list = pad_sequences([token_list], maxlen=max_seq_len-1, padding='pre')\n",
        "\tpredicted = model.predict_classes(token_list, verbose=0)\n",
        "\toutput_word = \"\"\n",
        "\tfor word, index in tokenizer.word_index.items():\n",
        "\t\tif index == predicted:\n",
        "\t\t\toutput_word = word\n",
        "\t\t\tbreak\n",
        "\tseed_text += \" \" + output_word\n",
        "print(seed_text)"
      ],
      "execution_count": 15,
      "outputs": [
        {
          "output_type": "stream",
          "text": [
            "/usr/local/lib/python3.7/dist-packages/tensorflow/python/keras/engine/sequential.py:450: UserWarning: `model.predict_classes()` is deprecated and will be removed after 2021-01-01. Please use instead:* `np.argmax(model.predict(x), axis=-1)`,   if your model does multi-class classification   (e.g. if it uses a `softmax` last-layer activation).* `(model.predict(x) > 0.5).astype(\"int32\")`,   if your model does binary classification   (e.g. if it uses a `sigmoid` last-layer activation).\n",
            "  warnings.warn('`model.predict_classes()` is deprecated and '\n"
          ],
          "name": "stderr"
        },
        {
          "output_type": "stream",
          "text": [
            "Help me Obi Wan Kenobi, you're my only hope dead night new rare twain light light twain night away bright one night new and away grew of foes sense time arising date of praise arising arising light away ' away me grew new strong odours still in thee new free lie to thee time thy rare night new rare away ' away none lie to you was so long of view in your verse can sit sit sit grew new looks away appetite seen twain toil'd twain date wide face so face other bright mine eye untrue days rare view state away none new gone from the vanish'd night\n"
          ],
          "name": "stdout"
        }
      ]
    },
    {
      "cell_type": "code",
      "metadata": {
        "id": "xAlDepIvUUGl"
      },
      "source": [
        ""
      ],
      "execution_count": null,
      "outputs": []
    }
  ]
}