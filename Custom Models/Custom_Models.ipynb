{
  "nbformat": 4,
  "nbformat_minor": 0,
  "metadata": {
    "colab": {
      "name": "Custom Models",
      "provenance": [],
      "collapsed_sections": [],
      "authorship_tag": "ABX9TyN4CyUfBRNf+8YhvNx6JE8X",
      "include_colab_link": true
    },
    "kernelspec": {
      "name": "python3",
      "display_name": "Python 3"
    },
    "language_info": {
      "name": "python"
    }
  },
  "cells": [
    {
      "cell_type": "markdown",
      "metadata": {
        "id": "view-in-github",
        "colab_type": "text"
      },
      "source": [
        "<a href=\"https://colab.research.google.com/github/Abhilash11Addanki/DeepLearning/blob/main/Custom%20Models/Custom_Models.ipynb\" target=\"_parent\"><img src=\"https://colab.research.google.com/assets/colab-badge.svg\" alt=\"Open In Colab\"/></a>"
      ]
    },
    {
      "cell_type": "code",
      "metadata": {
        "id": "oxTcFWGCA6vm"
      },
      "source": [
        "import tensorflow as tf\n",
        "from tensorflow.python.keras.utils.vis_utils import plot_model"
      ],
      "execution_count": 1,
      "outputs": []
    },
    {
      "cell_type": "markdown",
      "metadata": {
        "id": "7RHr98KGNZZR"
      },
      "source": [
        "**Building a Custom Model by extending Model Class**\n"
      ]
    },
    {
      "cell_type": "code",
      "metadata": {
        "id": "NGyUMZM2NXcb"
      },
      "source": [
        "class SimpleModel(tf.keras.models.Model):\n",
        "  def __init__(self,**kwargs):\n",
        "    super().__init__(**kwargs)\n",
        "    self.layer1 = tf.keras.layers.Dense(1)\n",
        "  \n",
        "  def call(self,inputs):\n",
        "    x = inputs\n",
        "    layer1 = self.layer1(x)\n",
        "    return layer1"
      ],
      "execution_count": 2,
      "outputs": []
    },
    {
      "cell_type": "code",
      "metadata": {
        "id": "8Ap5oRpKOkFH"
      },
      "source": [
        "xs = [1.0,2.0,3.0,4.0,5.0,6.0]\n",
        "ys = [1.0,1.5,2.0,2.5,3.0,3.5]"
      ],
      "execution_count": 3,
      "outputs": []
    },
    {
      "cell_type": "code",
      "metadata": {
        "id": "-HmWI1LYOqmE"
      },
      "source": [
        "model = SimpleModel()"
      ],
      "execution_count": 5,
      "outputs": []
    },
    {
      "cell_type": "code",
      "metadata": {
        "id": "vWKxRNjTPExB"
      },
      "source": [
        "model.compile(optimizer='sgd',loss='mean_squared_error')"
      ],
      "execution_count": 6,
      "outputs": []
    },
    {
      "cell_type": "code",
      "metadata": {
        "colab": {
          "base_uri": "https://localhost:8080/"
        },
        "id": "j1tWyK9hPLAX",
        "outputId": "bd32a849-1f8a-463a-c5b7-c20108c544b0"
      },
      "source": [
        "model.fit(xs,ys,epochs = 500,verbose = 0)\n",
        "model.predict([7.0])"
      ],
      "execution_count": 7,
      "outputs": [
        {
          "output_type": "execute_result",
          "data": {
            "text/plain": [
              "array([[4.019027]], dtype=float32)"
            ]
          },
          "metadata": {
            "tags": []
          },
          "execution_count": 7
        }
      ]
    },
    {
      "cell_type": "markdown",
      "metadata": {
        "id": "B2b1SzfePs57"
      },
      "source": [
        "**Wide and Deep Model**"
      ]
    },
    {
      "cell_type": "code",
      "metadata": {
        "id": "AdE1C6nUBTLW"
      },
      "source": [
        "class WideandDeepModel(tf.keras.models.Model):\n",
        "  def __init__(self,units=32,activation='relu',**kwargs):\n",
        "    super().__init__(**kwargs)\n",
        "    self.hidden1 = tf.keras.layers.Dense(units,activation=activation)\n",
        "    self.hidden2 = tf.keras.layers.Dense(units,activation=activation)\n",
        "    self.main_output = tf.keras.layers.Dense(1)\n",
        "    self.aux_output = tf.keras.layers.Dense(1)\n",
        "  \n",
        "  def call(self,inputs):\n",
        "    input_a,input_b = inputs\n",
        "    hidden1 = self.hidden1(input_b)\n",
        "    hidden2 = self.hidden2(hidden1)\n",
        "    concat = tf.keras.backend.concatenate([input_a,hidden2])\n",
        "    main_output = self.main_output(concat)\n",
        "    aux_output = self.aux_output(hidden2)\n",
        "    return main_output,aux_output"
      ],
      "execution_count": 4,
      "outputs": []
    }
  ]
}